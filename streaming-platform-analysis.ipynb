{
 "cells": [
  {
   "cell_type": "markdown",
   "metadata": {},
   "source": [
    "# Streaming-platform Analysis"
   ]
  },
  {
   "cell_type": "markdown",
   "metadata": {},
   "source": [
    "The dataset contains 15 days of overall plays activity from users on a online streaming platform.\n",
    "\n",
    "In this notebook, I'll go over the process to do exploratory analysis to understand the data and then conduct ANOVA test and create correlation matrix to see what might caused the buffering. In the end of the notebook, there will be answers for several questions given."
   ]
  },
  {
   "cell_type": "markdown",
   "metadata": {},
   "source": [
    "## Table of Content\n",
    "\n",
    "1. [Load the Data](#b)\n",
    "2. [Missing Value](#a)\n",
    "3. [Exploratory Data Analysis](#c)\n",
    "4. [Buffering Problem](#d)\n",
    "5. [Conclusion](#e)\n"
   ]
  },
  {
   "cell_type": "markdown",
   "metadata": {},
   "source": [
    "## 1. Load the Data\n",
    "<a id='b'></a>"
   ]
  },
  {
   "cell_type": "code",
   "execution_count": 48,
   "metadata": {},
   "outputs": [],
   "source": [
    "# import library\n",
    "\n",
    "import gzip\n",
    "import csv\n",
    "import json\n",
    "import pandas as pd\n",
    "import numpy as np\n",
    "import os\n",
    "import matplotlib.pyplot as plt\n",
    "import warnings\n",
    "import seaborn as sns\n",
    "warnings.filterwarnings(\"ignore\")\n",
    "pd.options.display.float_format = '{:20,.2f}'.format"
   ]
  },
  {
   "cell_type": "code",
   "execution_count": 4,
   "metadata": {},
   "outputs": [],
   "source": [
    "# insert back the dataset\n",
    "df = pd.read_csv('out2.csv')"
   ]
  },
  {
   "cell_type": "code",
   "execution_count": 5,
   "metadata": {},
   "outputs": [
    {
     "data": {
      "text/html": [
       "<div>\n",
       "<style scoped>\n",
       "    .dataframe tbody tr th:only-of-type {\n",
       "        vertical-align: middle;\n",
       "    }\n",
       "\n",
       "    .dataframe tbody tr th {\n",
       "        vertical-align: top;\n",
       "    }\n",
       "\n",
       "    .dataframe thead th {\n",
       "        text-align: right;\n",
       "    }\n",
       "</style>\n",
       "<table border=\"1\" class=\"dataframe\">\n",
       "  <thead>\n",
       "    <tr style=\"text-align: right;\">\n",
       "      <th></th>\n",
       "      <th>hash_content_id</th>\n",
       "      <th>hash_play_id</th>\n",
       "      <th>hash_visit_id</th>\n",
       "      <th>hash_watcher_id</th>\n",
       "      <th>hash_film_id</th>\n",
       "      <th>hash_event_id</th>\n",
       "      <th>is_login</th>\n",
       "      <th>playback_location</th>\n",
       "      <th>platform</th>\n",
       "      <th>play_time</th>\n",
       "      <th>...</th>\n",
       "      <th>app_version</th>\n",
       "      <th>city</th>\n",
       "      <th>play_duration</th>\n",
       "      <th>content_type</th>\n",
       "      <th>stream_type</th>\n",
       "      <th>title</th>\n",
       "      <th>category_name</th>\n",
       "      <th>film_title</th>\n",
       "      <th>season_name</th>\n",
       "      <th>genre_name</th>\n",
       "    </tr>\n",
       "  </thead>\n",
       "  <tbody>\n",
       "    <tr>\n",
       "      <th>0</th>\n",
       "      <td>0096dafb1049ee942e8e7cbad5abf4a46dc92e3995caac...</td>\n",
       "      <td>0162f124f5bd61592d9bca6aaa3b1b6097a00b62ef33c9...</td>\n",
       "      <td>27dfffe2bb74f8767caeb64ac4c92e9eaf4b11a28ef7e1...</td>\n",
       "      <td>e7c2138fd9d4047356066a01de46fc22ee9955a6fd6679...</td>\n",
       "      <td>NaN</td>\n",
       "      <td>c81bd64a212d3b5cb227499a6b4a3dc607748ae5133e48...</td>\n",
       "      <td>False</td>\n",
       "      <td>embed</td>\n",
       "      <td>web-mobile</td>\n",
       "      <td>2020-02-02T10:21:20.000Z</td>\n",
       "      <td>...</td>\n",
       "      <td>NaN</td>\n",
       "      <td>nan</td>\n",
       "      <td>0</td>\n",
       "      <td>vod</td>\n",
       "      <td>NaN</td>\n",
       "      <td>KiprahEksPemainJuventusyangDikaitkandenganPersija</td>\n",
       "      <td>Sports</td>\n",
       "      <td>NaN</td>\n",
       "      <td>NaN</td>\n",
       "      <td>NaN</td>\n",
       "    </tr>\n",
       "    <tr>\n",
       "      <th>1</th>\n",
       "      <td>01e34cb2658d0461f220bda493cb38427eef7de1e23e6e...</td>\n",
       "      <td>38976454aec1c7ff4ca0a35df8821db29227443352e705...</td>\n",
       "      <td>f23800acfeede429803cb2a1380ca7652067fb35d079a8...</td>\n",
       "      <td>bba3183af4f6c29d97dce6ee557561e3feef31d19ae9ab...</td>\n",
       "      <td>NaN</td>\n",
       "      <td>ed0731e9861306e6e26cf3cfb5a43da6b0e19af3ff3ff5...</td>\n",
       "      <td>False</td>\n",
       "      <td>embed</td>\n",
       "      <td>web-mobile</td>\n",
       "      <td>2020-02-02T13:45:05.000Z</td>\n",
       "      <td>...</td>\n",
       "      <td>NaN</td>\n",
       "      <td>nan</td>\n",
       "      <td>0</td>\n",
       "      <td>vod</td>\n",
       "      <td>NaN</td>\n",
       "      <td>5KelebihanMikelArtetaMenurutPepGuardiola</td>\n",
       "      <td>Sports</td>\n",
       "      <td>NaN</td>\n",
       "      <td>NaN</td>\n",
       "      <td>NaN</td>\n",
       "    </tr>\n",
       "    <tr>\n",
       "      <th>2</th>\n",
       "      <td>01e34cb2658d0461f220bda493cb38427eef7de1e23e6e...</td>\n",
       "      <td>4b4ee4aa4c37519250aa6efbd78e789b40d976474a1c37...</td>\n",
       "      <td>b058895b6fce58bcfbd72bfd7a3dfa4ae01d094e21c976...</td>\n",
       "      <td>317ecdb779c3ba5bdc1818405aaafebcef35e9582c42e5...</td>\n",
       "      <td>NaN</td>\n",
       "      <td>3679f65950032d6bff1323df5b29292adad99918d616ae...</td>\n",
       "      <td>False</td>\n",
       "      <td>embed</td>\n",
       "      <td>web-desktop</td>\n",
       "      <td>2020-02-02T13:23:40.000Z</td>\n",
       "      <td>...</td>\n",
       "      <td>NaN</td>\n",
       "      <td>nan</td>\n",
       "      <td>4</td>\n",
       "      <td>vod</td>\n",
       "      <td>NaN</td>\n",
       "      <td>5KelebihanMikelArtetaMenurutPepGuardiola</td>\n",
       "      <td>Sports</td>\n",
       "      <td>NaN</td>\n",
       "      <td>NaN</td>\n",
       "      <td>NaN</td>\n",
       "    </tr>\n",
       "    <tr>\n",
       "      <th>3</th>\n",
       "      <td>01e34cb2658d0461f220bda493cb38427eef7de1e23e6e...</td>\n",
       "      <td>fe108e8c2b02076084bb394d1614ac4f54b3fd0fbec824...</td>\n",
       "      <td>8d62f09ec75ee9e690125bf05f004692586cad2122ea29...</td>\n",
       "      <td>8f939dcc6de53622457985c1cccb80f9f3dac049d37243...</td>\n",
       "      <td>NaN</td>\n",
       "      <td>9e444d2afa0814830b73862556002263ea7035d1cfa4f7...</td>\n",
       "      <td>False</td>\n",
       "      <td>embed</td>\n",
       "      <td>web-mobile</td>\n",
       "      <td>2020-02-02T10:47:10.000Z</td>\n",
       "      <td>...</td>\n",
       "      <td>NaN</td>\n",
       "      <td>nan</td>\n",
       "      <td>0</td>\n",
       "      <td>vod</td>\n",
       "      <td>NaN</td>\n",
       "      <td>5KelebihanMikelArtetaMenurutPepGuardiola</td>\n",
       "      <td>Sports</td>\n",
       "      <td>NaN</td>\n",
       "      <td>NaN</td>\n",
       "      <td>NaN</td>\n",
       "    </tr>\n",
       "    <tr>\n",
       "      <th>4</th>\n",
       "      <td>034ab1b19ac4e85f99481b8e97de7cdefaf9d929277fb5...</td>\n",
       "      <td>027a275d857e562457a606b3716125f68c0ce06e039556...</td>\n",
       "      <td>4c1b550e81cdaf85c343be628c9083fa67815805f39982...</td>\n",
       "      <td>fb3a5607faeb16e62b68e3a0ce3e950bbd413913d8ee2d...</td>\n",
       "      <td>28955b1fb53203e2ff246fd2d4c3e148d4666a617469cd...</td>\n",
       "      <td>2694f8085b635aae0167669ae34d08bb3b639dff3955fe...</td>\n",
       "      <td>True</td>\n",
       "      <td>direct</td>\n",
       "      <td>app-android</td>\n",
       "      <td>2020-02-02T07:56:10.000Z</td>\n",
       "      <td>...</td>\n",
       "      <td>2.9.4</td>\n",
       "      <td>nan</td>\n",
       "      <td>0</td>\n",
       "      <td>vod</td>\n",
       "      <td>NaN</td>\n",
       "      <td>SamudraCinta-Episode1,2dan3</td>\n",
       "      <td>TVShow</td>\n",
       "      <td>Samudra1-50</td>\n",
       "      <td>Sinetron</td>\n",
       "      <td>NaN</td>\n",
       "    </tr>\n",
       "  </tbody>\n",
       "</table>\n",
       "<p>5 rows × 41 columns</p>\n",
       "</div>"
      ],
      "text/plain": [
       "                                     hash_content_id  \\\n",
       "0  0096dafb1049ee942e8e7cbad5abf4a46dc92e3995caac...   \n",
       "1  01e34cb2658d0461f220bda493cb38427eef7de1e23e6e...   \n",
       "2  01e34cb2658d0461f220bda493cb38427eef7de1e23e6e...   \n",
       "3  01e34cb2658d0461f220bda493cb38427eef7de1e23e6e...   \n",
       "4  034ab1b19ac4e85f99481b8e97de7cdefaf9d929277fb5...   \n",
       "\n",
       "                                        hash_play_id  \\\n",
       "0  0162f124f5bd61592d9bca6aaa3b1b6097a00b62ef33c9...   \n",
       "1  38976454aec1c7ff4ca0a35df8821db29227443352e705...   \n",
       "2  4b4ee4aa4c37519250aa6efbd78e789b40d976474a1c37...   \n",
       "3  fe108e8c2b02076084bb394d1614ac4f54b3fd0fbec824...   \n",
       "4  027a275d857e562457a606b3716125f68c0ce06e039556...   \n",
       "\n",
       "                                       hash_visit_id  \\\n",
       "0  27dfffe2bb74f8767caeb64ac4c92e9eaf4b11a28ef7e1...   \n",
       "1  f23800acfeede429803cb2a1380ca7652067fb35d079a8...   \n",
       "2  b058895b6fce58bcfbd72bfd7a3dfa4ae01d094e21c976...   \n",
       "3  8d62f09ec75ee9e690125bf05f004692586cad2122ea29...   \n",
       "4  4c1b550e81cdaf85c343be628c9083fa67815805f39982...   \n",
       "\n",
       "                                     hash_watcher_id  \\\n",
       "0  e7c2138fd9d4047356066a01de46fc22ee9955a6fd6679...   \n",
       "1  bba3183af4f6c29d97dce6ee557561e3feef31d19ae9ab...   \n",
       "2  317ecdb779c3ba5bdc1818405aaafebcef35e9582c42e5...   \n",
       "3  8f939dcc6de53622457985c1cccb80f9f3dac049d37243...   \n",
       "4  fb3a5607faeb16e62b68e3a0ce3e950bbd413913d8ee2d...   \n",
       "\n",
       "                                        hash_film_id  \\\n",
       "0                                                NaN   \n",
       "1                                                NaN   \n",
       "2                                                NaN   \n",
       "3                                                NaN   \n",
       "4  28955b1fb53203e2ff246fd2d4c3e148d4666a617469cd...   \n",
       "\n",
       "                                       hash_event_id  is_login  \\\n",
       "0  c81bd64a212d3b5cb227499a6b4a3dc607748ae5133e48...     False   \n",
       "1  ed0731e9861306e6e26cf3cfb5a43da6b0e19af3ff3ff5...     False   \n",
       "2  3679f65950032d6bff1323df5b29292adad99918d616ae...     False   \n",
       "3  9e444d2afa0814830b73862556002263ea7035d1cfa4f7...     False   \n",
       "4  2694f8085b635aae0167669ae34d08bb3b639dff3955fe...      True   \n",
       "\n",
       "  playback_location     platform                 play_time  ... app_version  \\\n",
       "0             embed   web-mobile  2020-02-02T10:21:20.000Z  ...         NaN   \n",
       "1             embed   web-mobile  2020-02-02T13:45:05.000Z  ...         NaN   \n",
       "2             embed  web-desktop  2020-02-02T13:23:40.000Z  ...         NaN   \n",
       "3             embed   web-mobile  2020-02-02T10:47:10.000Z  ...         NaN   \n",
       "4            direct  app-android  2020-02-02T07:56:10.000Z  ...       2.9.4   \n",
       "\n",
       "                  city  play_duration content_type  stream_type  \\\n",
       "0                  nan              0          vod          NaN   \n",
       "1                  nan              0          vod          NaN   \n",
       "2                  nan              4          vod          NaN   \n",
       "3                  nan              0          vod          NaN   \n",
       "4                  nan              0          vod          NaN   \n",
       "\n",
       "                                               title category_name  \\\n",
       "0  KiprahEksPemainJuventusyangDikaitkandenganPersija        Sports   \n",
       "1           5KelebihanMikelArtetaMenurutPepGuardiola        Sports   \n",
       "2           5KelebihanMikelArtetaMenurutPepGuardiola        Sports   \n",
       "3           5KelebihanMikelArtetaMenurutPepGuardiola        Sports   \n",
       "4                        SamudraCinta-Episode1,2dan3        TVShow   \n",
       "\n",
       "    film_title season_name genre_name  \n",
       "0          NaN         NaN        NaN  \n",
       "1          NaN         NaN        NaN  \n",
       "2          NaN         NaN        NaN  \n",
       "3          NaN         NaN        NaN  \n",
       "4  Samudra1-50    Sinetron        NaN  \n",
       "\n",
       "[5 rows x 41 columns]"
      ]
     },
     "execution_count": 5,
     "metadata": {},
     "output_type": "execute_result"
    }
   ],
   "source": [
    "df.head()"
   ]
  },
  {
   "cell_type": "code",
   "execution_count": 6,
   "metadata": {},
   "outputs": [
    {
     "data": {
      "text/plain": [
       "(93409, 41)"
      ]
     },
     "execution_count": 6,
     "metadata": {},
     "output_type": "execute_result"
    }
   ],
   "source": [
    "# show dataset shape\n",
    "df.shape"
   ]
  },
  {
   "cell_type": "code",
   "execution_count": 7,
   "metadata": {},
   "outputs": [
    {
     "data": {
      "text/plain": [
       "['hash_content_id',\n",
       " 'hash_play_id',\n",
       " 'hash_visit_id',\n",
       " 'hash_watcher_id',\n",
       " 'hash_film_id',\n",
       " 'hash_event_id',\n",
       " 'is_login',\n",
       " 'playback_location',\n",
       " 'platform',\n",
       " 'play_time',\n",
       " 'end_time',\n",
       " 'referrer',\n",
       " 'average_bitrate',\n",
       " 'bitrate_range',\n",
       " 'total_bytes',\n",
       " 'buffer_duration',\n",
       " 'referrer_group',\n",
       " 'completed',\n",
       " 'utm_source',\n",
       " 'utm_medium',\n",
       " 'utm_campaign',\n",
       " 'player_name',\n",
       " 'has_ad',\n",
       " 'flash_version',\n",
       " 'os_name',\n",
       " 'os_version',\n",
       " 'browser_name',\n",
       " 'browser_version',\n",
       " 'app_name',\n",
       " 'autoplay',\n",
       " 'is_premium',\n",
       " 'app_version',\n",
       " 'city',\n",
       " 'play_duration',\n",
       " 'content_type',\n",
       " 'stream_type',\n",
       " 'title',\n",
       " 'category_name',\n",
       " 'film_title',\n",
       " 'season_name',\n",
       " 'genre_name']"
      ]
     },
     "execution_count": 7,
     "metadata": {},
     "output_type": "execute_result"
    }
   ],
   "source": [
    "# show dataset columns\n",
    "list(df.columns.values)"
   ]
  },
  {
   "cell_type": "code",
   "execution_count": 8,
   "metadata": {
    "scrolled": true
   },
   "outputs": [
    {
     "data": {
      "text/plain": [
       "hash_content_id          0\n",
       "hash_play_id             0\n",
       "hash_visit_id            0\n",
       "hash_watcher_id          0\n",
       "hash_film_id         91178\n",
       "hash_event_id            0\n",
       "is_login                 0\n",
       "playback_location        0\n",
       "platform                 0\n",
       "play_time                0\n",
       "end_time                 0\n",
       "referrer              5145\n",
       "average_bitrate       4456\n",
       "bitrate_range            0\n",
       "total_bytes              0\n",
       "buffer_duration          0\n",
       "referrer_group           0\n",
       "completed            36999\n",
       "utm_source           93367\n",
       "utm_medium           93367\n",
       "utm_campaign         93387\n",
       "player_name           1741\n",
       "has_ad                   0\n",
       "flash_version        29139\n",
       "os_name              28114\n",
       "os_version             237\n",
       "browser_name         29139\n",
       "browser_version      30297\n",
       "app_name                 0\n",
       "autoplay             37017\n",
       "is_premium               0\n",
       "app_version          64283\n",
       "city                 93409\n",
       "play_duration            0\n",
       "content_type             0\n",
       "stream_type          56410\n",
       "title                    0\n",
       "category_name        46824\n",
       "film_title           91190\n",
       "season_name          91221\n",
       "genre_name           92315\n",
       "dtype: int64"
      ]
     },
     "execution_count": 8,
     "metadata": {},
     "output_type": "execute_result"
    }
   ],
   "source": [
    "# show missing value in each column\n",
    "df.isna().sum()"
   ]
  },
  {
   "cell_type": "code",
   "execution_count": 9,
   "metadata": {},
   "outputs": [
    {
     "name": "stdout",
     "output_type": "stream",
     "text": [
      "<class 'pandas.core.frame.DataFrame'>\n",
      "RangeIndex: 93409 entries, 0 to 93408\n",
      "Data columns (total 41 columns):\n",
      " #   Column             Non-Null Count  Dtype  \n",
      "---  ------             --------------  -----  \n",
      " 0   hash_content_id    93409 non-null  object \n",
      " 1   hash_play_id       93409 non-null  object \n",
      " 2   hash_visit_id      93409 non-null  object \n",
      " 3   hash_watcher_id    93409 non-null  object \n",
      " 4   hash_film_id       2231 non-null   object \n",
      " 5   hash_event_id      93409 non-null  object \n",
      " 6   is_login           93409 non-null  bool   \n",
      " 7   playback_location  93409 non-null  object \n",
      " 8   platform           93409 non-null  object \n",
      " 9   play_time          93409 non-null  object \n",
      " 10  end_time           93409 non-null  object \n",
      " 11  referrer           88264 non-null  object \n",
      " 12  average_bitrate    88953 non-null  float64\n",
      " 13  bitrate_range      93409 non-null  object \n",
      " 14  total_bytes        93409 non-null  int64  \n",
      " 15  buffer_duration    93409 non-null  float64\n",
      " 16  referrer_group     93409 non-null  object \n",
      " 17  completed          56410 non-null  object \n",
      " 18  utm_source         42 non-null     object \n",
      " 19  utm_medium         42 non-null     object \n",
      " 20  utm_campaign       22 non-null     object \n",
      " 21  player_name        91668 non-null  object \n",
      " 22  has_ad             93409 non-null  bool   \n",
      " 23  flash_version      64270 non-null  object \n",
      " 24  os_name            65295 non-null  object \n",
      " 25  os_version         93172 non-null  object \n",
      " 26  browser_name       64270 non-null  object \n",
      " 27  browser_version    63112 non-null  object \n",
      " 28  app_name           93409 non-null  object \n",
      " 29  autoplay           56392 non-null  object \n",
      " 30  is_premium         93409 non-null  bool   \n",
      " 31  app_version        29126 non-null  object \n",
      " 32  city               0 non-null      float64\n",
      " 33  play_duration      93409 non-null  int64  \n",
      " 34  content_type       93409 non-null  object \n",
      " 35  stream_type        36999 non-null  object \n",
      " 36  title              93409 non-null  object \n",
      " 37  category_name      46585 non-null  object \n",
      " 38  film_title         2219 non-null   object \n",
      " 39  season_name        2188 non-null   object \n",
      " 40  genre_name         1094 non-null   object \n",
      "dtypes: bool(3), float64(3), int64(2), object(33)\n",
      "memory usage: 27.3+ MB\n"
     ]
    }
   ],
   "source": [
    "df.info()"
   ]
  },
  {
   "cell_type": "markdown",
   "metadata": {},
   "source": [
    "## 2. Missing Value\n",
    "<a id='a'></a>"
   ]
  },
  {
   "cell_type": "code",
   "execution_count": 10,
   "metadata": {},
   "outputs": [],
   "source": [
    "# insert \"OTHERS\" to the null values in the columns that has string datatype\n",
    "\n",
    "df['hash_film_id'] = df['hash_film_id'].replace({ np.nan: 'OTHERS'})\n",
    "df['referrer'] = df['referrer'].replace({ np.nan: 'OTHERS'})\n",
    "df['utm_source'] = df['utm_source'].replace({ np.nan: 'OTHERS'})\n",
    "df['utm_medium'] = df['utm_medium'].replace({ np.nan: 'OTHERS'})\n",
    "df['utm_campaign'] = df['utm_campaign'].replace({ np.nan: 'OTHERS'})\n",
    "df['flash_version'] = df['flash_version'].replace({ np.nan: 'OTHERS'})\n",
    "df['os_name'] = df['os_name'].replace({ np.nan: 'Other'})\n",
    "df['os_version'] = df['os_version'].replace({ np.nan: 'OTHERS'})\n",
    "df['browser_name'] = df['browser_name'].replace({ np.nan: 'Other'})\n",
    "df['browser_version'] = df['browser_version'].replace({ np.nan: 'OTHERS'})\n",
    "df['app_version'] = df['app_version'].replace({ np.nan: 'OTHERS'})\n",
    "df['category_name'] = df['category_name'].replace({ np.nan: 'OTHERS'})\n",
    "df['film_title'] = df['film_title'].replace({ np.nan: 'OTHERS'})\n",
    "df['season_name'] = df['season_name'].replace({ np.nan: 'OTHERS'})\n",
    "df['genre_name'] = df['genre_name'].replace({ np.nan: 'OTHERS'})"
   ]
  },
  {
   "cell_type": "code",
   "execution_count": 11,
   "metadata": {},
   "outputs": [],
   "source": [
    "# insert MODE of the column to the missing values of column with bool datatypes\n",
    "\n",
    "df['completed'] = df['completed'] .fillna(df['completed'].mode()[0])\n",
    "df['player_name'] = df['player_name'] .fillna(df['player_name'].mode()[0])\n",
    "df['autoplay'] = df['autoplay'] .fillna(df['autoplay'].mode()[0])\n",
    "df['stream_type'] = df['stream_type'] .fillna(df['stream_type'].mode()[0])\n"
   ]
  },
  {
   "cell_type": "code",
   "execution_count": 12,
   "metadata": {},
   "outputs": [],
   "source": [
    "# insert MEDIAN to the column to the missing values of column with float64 datatype\n",
    "df['average_bitrate'] = df['average_bitrate'] .fillna(df['average_bitrate'].median())"
   ]
  },
  {
   "cell_type": "code",
   "execution_count": 13,
   "metadata": {},
   "outputs": [],
   "source": [
    "# drop city because no values\n",
    "df.drop('city',inplace=True, axis=1)\n"
   ]
  },
  {
   "cell_type": "code",
   "execution_count": 14,
   "metadata": {},
   "outputs": [
    {
     "data": {
      "text/plain": [
       "hash_content_id      0\n",
       "hash_play_id         0\n",
       "hash_visit_id        0\n",
       "hash_watcher_id      0\n",
       "hash_film_id         0\n",
       "hash_event_id        0\n",
       "is_login             0\n",
       "playback_location    0\n",
       "platform             0\n",
       "play_time            0\n",
       "end_time             0\n",
       "referrer             0\n",
       "average_bitrate      0\n",
       "bitrate_range        0\n",
       "total_bytes          0\n",
       "buffer_duration      0\n",
       "referrer_group       0\n",
       "completed            0\n",
       "utm_source           0\n",
       "utm_medium           0\n",
       "utm_campaign         0\n",
       "player_name          0\n",
       "has_ad               0\n",
       "flash_version        0\n",
       "os_name              0\n",
       "os_version           0\n",
       "browser_name         0\n",
       "browser_version      0\n",
       "app_name             0\n",
       "autoplay             0\n",
       "is_premium           0\n",
       "app_version          0\n",
       "play_duration        0\n",
       "content_type         0\n",
       "stream_type          0\n",
       "title                0\n",
       "category_name        0\n",
       "film_title           0\n",
       "season_name          0\n",
       "genre_name           0\n",
       "dtype: int64"
      ]
     },
     "execution_count": 14,
     "metadata": {},
     "output_type": "execute_result"
    }
   ],
   "source": [
    "df.isna().sum()"
   ]
  },
  {
   "cell_type": "markdown",
   "metadata": {},
   "source": [
    "## 3. Exploratory Data Analysis\n",
    "<a id='c'></a>"
   ]
  },
  {
   "cell_type": "code",
   "execution_count": 15,
   "metadata": {},
   "outputs": [
    {
     "name": "stdout",
     "output_type": "stream",
     "text": [
      "<class 'pandas.core.frame.DataFrame'>\n",
      "RangeIndex: 93409 entries, 0 to 93408\n",
      "Data columns (total 40 columns):\n",
      " #   Column             Non-Null Count  Dtype  \n",
      "---  ------             --------------  -----  \n",
      " 0   hash_content_id    93409 non-null  object \n",
      " 1   hash_play_id       93409 non-null  object \n",
      " 2   hash_visit_id      93409 non-null  object \n",
      " 3   hash_watcher_id    93409 non-null  object \n",
      " 4   hash_film_id       93409 non-null  object \n",
      " 5   hash_event_id      93409 non-null  object \n",
      " 6   is_login           93409 non-null  bool   \n",
      " 7   playback_location  93409 non-null  object \n",
      " 8   platform           93409 non-null  object \n",
      " 9   play_time          93409 non-null  object \n",
      " 10  end_time           93409 non-null  object \n",
      " 11  referrer           93409 non-null  object \n",
      " 12  average_bitrate    93409 non-null  float64\n",
      " 13  bitrate_range      93409 non-null  object \n",
      " 14  total_bytes        93409 non-null  int64  \n",
      " 15  buffer_duration    93409 non-null  float64\n",
      " 16  referrer_group     93409 non-null  object \n",
      " 17  completed          93409 non-null  bool   \n",
      " 18  utm_source         93409 non-null  object \n",
      " 19  utm_medium         93409 non-null  object \n",
      " 20  utm_campaign       93409 non-null  object \n",
      " 21  player_name        93409 non-null  object \n",
      " 22  has_ad             93409 non-null  bool   \n",
      " 23  flash_version      93409 non-null  object \n",
      " 24  os_name            93409 non-null  object \n",
      " 25  os_version         93409 non-null  object \n",
      " 26  browser_name       93409 non-null  object \n",
      " 27  browser_version    93409 non-null  object \n",
      " 28  app_name           93409 non-null  object \n",
      " 29  autoplay           93409 non-null  bool   \n",
      " 30  is_premium         93409 non-null  bool   \n",
      " 31  app_version        93409 non-null  object \n",
      " 32  play_duration      93409 non-null  int64  \n",
      " 33  content_type       93409 non-null  object \n",
      " 34  stream_type        93409 non-null  object \n",
      " 35  title              93409 non-null  object \n",
      " 36  category_name      93409 non-null  object \n",
      " 37  film_title         93409 non-null  object \n",
      " 38  season_name        93409 non-null  object \n",
      " 39  genre_name         93409 non-null  object \n",
      "dtypes: bool(5), float64(2), int64(2), object(31)\n",
      "memory usage: 25.4+ MB\n"
     ]
    }
   ],
   "source": [
    "df.info()"
   ]
  },
  {
   "cell_type": "code",
   "execution_count": 16,
   "metadata": {},
   "outputs": [
    {
     "data": {
      "text/html": [
       "<div>\n",
       "<style scoped>\n",
       "    .dataframe tbody tr th:only-of-type {\n",
       "        vertical-align: middle;\n",
       "    }\n",
       "\n",
       "    .dataframe tbody tr th {\n",
       "        vertical-align: top;\n",
       "    }\n",
       "\n",
       "    .dataframe thead th {\n",
       "        text-align: right;\n",
       "    }\n",
       "</style>\n",
       "<table border=\"1\" class=\"dataframe\">\n",
       "  <thead>\n",
       "    <tr style=\"text-align: right;\">\n",
       "      <th></th>\n",
       "      <th>average_bitrate</th>\n",
       "      <th>total_bytes</th>\n",
       "      <th>buffer_duration</th>\n",
       "      <th>play_duration</th>\n",
       "    </tr>\n",
       "  </thead>\n",
       "  <tbody>\n",
       "    <tr>\n",
       "      <th>count</th>\n",
       "      <td>93,409.00</td>\n",
       "      <td>93,409.00</td>\n",
       "      <td>93,409.00</td>\n",
       "      <td>93,409.00</td>\n",
       "    </tr>\n",
       "    <tr>\n",
       "      <th>mean</th>\n",
       "      <td>204,548.89</td>\n",
       "      <td>82,038,889.14</td>\n",
       "      <td>259,434.47</td>\n",
       "      <td>396.97</td>\n",
       "    </tr>\n",
       "    <tr>\n",
       "      <th>std</th>\n",
       "      <td>139,501.89</td>\n",
       "      <td>491,093,252.26</td>\n",
       "      <td>79,181,003.58</td>\n",
       "      <td>1,560.81</td>\n",
       "    </tr>\n",
       "    <tr>\n",
       "      <th>min</th>\n",
       "      <td>144.00</td>\n",
       "      <td>0.00</td>\n",
       "      <td>0.00</td>\n",
       "      <td>0.00</td>\n",
       "    </tr>\n",
       "    <tr>\n",
       "      <th>25%</th>\n",
       "      <td>700.00</td>\n",
       "      <td>750.00</td>\n",
       "      <td>0.01</td>\n",
       "      <td>5.00</td>\n",
       "    </tr>\n",
       "    <tr>\n",
       "      <th>50%</th>\n",
       "      <td>300,000.00</td>\n",
       "      <td>585,000.00</td>\n",
       "      <td>1.00</td>\n",
       "      <td>41.00</td>\n",
       "    </tr>\n",
       "    <tr>\n",
       "      <th>75%</th>\n",
       "      <td>300,000.00</td>\n",
       "      <td>11,250,000.00</td>\n",
       "      <td>6.00</td>\n",
       "      <td>115.00</td>\n",
       "    </tr>\n",
       "    <tr>\n",
       "      <th>max</th>\n",
       "      <td>300,000.00</td>\n",
       "      <td>30,920,625,000.00</td>\n",
       "      <td>24,200,000,000.00</td>\n",
       "      <td>82,455.00</td>\n",
       "    </tr>\n",
       "  </tbody>\n",
       "</table>\n",
       "</div>"
      ],
      "text/plain": [
       "           average_bitrate          total_bytes      buffer_duration  \\\n",
       "count            93,409.00            93,409.00            93,409.00   \n",
       "mean            204,548.89        82,038,889.14           259,434.47   \n",
       "std             139,501.89       491,093,252.26        79,181,003.58   \n",
       "min                 144.00                 0.00                 0.00   \n",
       "25%                 700.00               750.00                 0.01   \n",
       "50%             300,000.00           585,000.00                 1.00   \n",
       "75%             300,000.00        11,250,000.00                 6.00   \n",
       "max             300,000.00    30,920,625,000.00    24,200,000,000.00   \n",
       "\n",
       "             play_duration  \n",
       "count            93,409.00  \n",
       "mean                396.97  \n",
       "std               1,560.81  \n",
       "min                   0.00  \n",
       "25%                   5.00  \n",
       "50%                  41.00  \n",
       "75%                 115.00  \n",
       "max              82,455.00  "
      ]
     },
     "execution_count": 16,
     "metadata": {},
     "output_type": "execute_result"
    }
   ],
   "source": [
    "df.describe()"
   ]
  },
  {
   "cell_type": "code",
   "execution_count": 17,
   "metadata": {},
   "outputs": [
    {
     "data": {
      "text/plain": [
       "<matplotlib.axes._subplots.AxesSubplot at 0x1e33cfc3948>"
      ]
     },
     "execution_count": 17,
     "metadata": {},
     "output_type": "execute_result"
    },
    {
     "data": {
      "image/png": "[encoded data removed]",
      "text/plain": [
       "<Figure size 432x288 with 1 Axes>"
      ]
     },
     "metadata": {
      "needs_background": "light"
     },
     "output_type": "display_data"
    }
   ],
   "source": [
    "# How many watcher log in into their account when streaming in Vidio?\n",
    "df['is_login'].value_counts().plot(kind=\"bar\", rot=0)"
   ]
  },
  {
   "cell_type": "markdown",
   "metadata": {},
   "source": [
    "**Notes:**\n",
    "1. Many watcher in this dataset didn't log in"
   ]
  },
  {
   "cell_type": "markdown",
   "metadata": {},
   "source": [
    "<a id='f'></a>"
   ]
  },
  {
   "cell_type": "code",
   "execution_count": 18,
   "metadata": {},
   "outputs": [
    {
     "data": {
      "text/plain": [
       "<matplotlib.axes._subplots.AxesSubplot at 0x1e33d794648>"
      ]
     },
     "execution_count": 18,
     "metadata": {},
     "output_type": "execute_result"
    },
    {
     "data": {
      "image/png": "[encoded data removed]",
      "text/plain": [
       "<Figure size 432x288 with 1 Axes>"
      ]
     },
     "metadata": {
      "needs_background": "light"
     },
     "output_type": "display_data"
    }
   ],
   "source": [
    "# What platform that user keenly watch?\n",
    "df['platform'].value_counts().plot(kind=\"bar\", rot=90)"
   ]
  },
  {
   "cell_type": "code",
   "execution_count": 19,
   "metadata": {},
   "outputs": [
    {
     "data": {
      "text/plain": [
       "platform\n",
       "web-mobile     54717\n",
       "app-android    21779\n",
       "web-desktop     9553\n",
       "tv-android      5818\n",
       "app-ios         1542\n",
       "Name: hash_content_id, dtype: int64"
      ]
     },
     "execution_count": 19,
     "metadata": {},
     "output_type": "execute_result"
    }
   ],
   "source": [
    "df.groupby(['platform'])['hash_content_id'].count().sort_values(ascending=False)"
   ]
  },
  {
   "cell_type": "code",
   "execution_count": 20,
   "metadata": {},
   "outputs": [
    {
     "data": {
      "text/plain": [
       "platform\n",
       "app-android    16965485\n",
       "web-mobile      6865173\n",
       "tv-android      6617523\n",
       "web-desktop     5864694\n",
       "app-ios          767531\n",
       "Name: play_duration, dtype: int64"
      ]
     },
     "execution_count": 20,
     "metadata": {},
     "output_type": "execute_result"
    }
   ],
   "source": [
    "# Favourite platform baseed on total play duration\n",
    "df.groupby(['platform'])['play_duration'].sum().sort_values(ascending=False)"
   ]
  },
  {
   "cell_type": "code",
   "execution_count": 21,
   "metadata": {},
   "outputs": [
    {
     "data": {
      "text/plain": [
       "content_type   platform   \n",
       "vod            web-mobile     47046\n",
       "livestreaming  app-android    17933\n",
       "               web-mobile      7576\n",
       "               tv-android      5636\n",
       "vod            web-desktop     4913\n",
       "livestreaming  web-desktop     4569\n",
       "vod            app-android     3662\n",
       "livestreaming  app-ios         1285\n",
       "vod            app-ios          235\n",
       "catchup        app-android      184\n",
       "vod            tv-android       182\n",
       "catchup        web-mobile        95\n",
       "               web-desktop       71\n",
       "               app-ios           22\n",
       "Name: hash_content_id, dtype: int64"
      ]
     },
     "execution_count": 21,
     "metadata": {},
     "output_type": "execute_result"
    }
   ],
   "source": [
    "# Favourite platform based on the content \n",
    "df.groupby(['content_type','platform'])['hash_content_id'].count().sort_values(ascending=False)"
   ]
  },
  {
   "cell_type": "code",
   "execution_count": 22,
   "metadata": {},
   "outputs": [
    {
     "data": {
      "text/plain": [
       "platform     browser_name       \n",
       "app-android  Other                  21779\n",
       "web-mobile   Facebook               18721\n",
       "             ChromeMobile           17517\n",
       "web-desktop  Chrome                  7369\n",
       "web-mobile   ChromeMobileWebView     6798\n",
       "                                    ...  \n",
       "web-desktop  ChromeMobile               1\n",
       "web-mobile   Pinterest                  1\n",
       "web-desktop  AmazonSilk                 1\n",
       "             LINE                       1\n",
       "             Waterfox                   1\n",
       "Name: hash_content_id, Length: 64, dtype: int64"
      ]
     },
     "execution_count": 22,
     "metadata": {},
     "output_type": "execute_result"
    }
   ],
   "source": [
    "# Browser used for the platform\n",
    "df.groupby(['platform','browser_name'])['hash_content_id'].count().sort_values(ascending=False)"
   ]
  },
  {
   "cell_type": "code",
   "execution_count": 23,
   "metadata": {},
   "outputs": [
    {
     "data": {
      "text/plain": [
       "stream_type  platform   \n",
       "TvStream     web-mobile     54717\n",
       "             app-android    21776\n",
       "             web-desktop     9552\n",
       "             tv-android      5818\n",
       "             app-ios         1541\n",
       "EventStream  app-android        3\n",
       "             web-desktop        1\n",
       "             app-ios            1\n",
       "Name: hash_content_id, dtype: int64"
      ]
     },
     "execution_count": 23,
     "metadata": {},
     "output_type": "execute_result"
    }
   ],
   "source": [
    "# Browser used for the platform\n",
    "df.groupby(['stream_type','platform'])['hash_content_id'].count().sort_values(ascending=False)"
   ]
  },
  {
   "cell_type": "markdown",
   "metadata": {},
   "source": [
    "**Notes:**\n",
    "Check in [here](#g)"
   ]
  },
  {
   "cell_type": "code",
   "execution_count": 24,
   "metadata": {},
   "outputs": [
    {
     "data": {
      "text/plain": [
       "<matplotlib.axes._subplots.AxesSubplot at 0x1e33cc8c9c8>"
      ]
     },
     "execution_count": 24,
     "metadata": {},
     "output_type": "execute_result"
    },
    {
     "data": {
      "image/png": "[encoded data removed]",
      "text/plain": [
       "<Figure size 432x288 with 1 Axes>"
      ]
     },
     "metadata": {
      "needs_background": "light"
     },
     "output_type": "display_data"
    }
   ],
   "source": [
    "# Where does the content in Vidio mostly coming from?\n",
    "df['referrer_group'].value_counts().plot(kind=\"bar\", rot=90)"
   ]
  },
  {
   "cell_type": "markdown",
   "metadata": {},
   "source": [
    "**Notes:**\n",
    "1. The source of Vidio content mostly not mentioned here\n",
    "2. Besides that, the top three sources of the contents are **kapanlagi, merdeka, internal.**"
   ]
  },
  {
   "cell_type": "code",
   "execution_count": 25,
   "metadata": {},
   "outputs": [
    {
     "data": {
      "text/plain": [
       "<matplotlib.axes._subplots.AxesSubplot at 0x1e33d8cf0c8>"
      ]
     },
     "execution_count": 25,
     "metadata": {},
     "output_type": "execute_result"
    },
    {
     "data": {
      "image/png": "[encoded data removed]",
      "text/plain": [
       "<Figure size 432x288 with 1 Axes>"
      ]
     },
     "metadata": {
      "needs_background": "light"
     },
     "output_type": "display_data"
    }
   ],
   "source": [
    "# Does the watcher often received ads?\n",
    "df['has_ad'].value_counts().plot(kind=\"bar\", rot=0)"
   ]
  },
  {
   "cell_type": "code",
   "execution_count": 26,
   "metadata": {},
   "outputs": [
    {
     "name": "stdout",
     "output_type": "stream",
     "text": [
      "There are 92907 non-premium visitors and 502 premium visitors.\n"
     ]
    },
    {
     "data": {
      "image/png": "[encoded data removed]",
      "text/plain": [
       "<Figure size 432x288 with 1 Axes>"
      ]
     },
     "metadata": {
      "needs_background": "light"
     },
     "output_type": "display_data"
    }
   ],
   "source": [
    "# How many are premium watcher here?\n",
    "df['is_premium'].value_counts().plot(kind=\"bar\", rot=0)\n",
    "print(f\"There are {len (df.loc[df['is_premium'] == False])} non-premium visitors and {len (df.loc[df['is_premium'] == True])} premium visitors.\")"
   ]
  },
  {
   "cell_type": "code",
   "execution_count": 27,
   "metadata": {},
   "outputs": [
    {
     "data": {
      "text/plain": [
       "has_ad  is_premium\n",
       "False   False         22183\n",
       "        True            502\n",
       "True    False         70724\n",
       "Name: hash_content_id, dtype: int64"
      ]
     },
     "execution_count": 27,
     "metadata": {},
     "output_type": "execute_result"
    }
   ],
   "source": [
    "# Does premium visitors still receive ads?\n",
    "df.groupby(['has_ad','is_premium'])['hash_content_id'].count()"
   ]
  },
  {
   "cell_type": "markdown",
   "metadata": {},
   "source": [
    "**Notes:**\n",
    "1. Most of the visitors got ad.\n",
    "2. Most of the visitors are non-premium.\n",
    "3. Only non-premium visitors got adds."
   ]
  },
  {
   "cell_type": "code",
   "execution_count": 28,
   "metadata": {},
   "outputs": [
    {
     "data": {
      "text/plain": [
       "<matplotlib.axes._subplots.AxesSubplot at 0x1e33d9b1588>"
      ]
     },
     "execution_count": 28,
     "metadata": {},
     "output_type": "execute_result"
    },
    {
     "data": {
      "image/png": "[encoded data removed]",
      "text/plain": [
       "<Figure size 432x288 with 1 Axes>"
      ]
     },
     "metadata": {
      "needs_background": "light"
     },
     "output_type": "display_data"
    }
   ],
   "source": [
    "# What OS that the users mostly use to watch the content?\n",
    "df['os_name'].value_counts().plot(kind=\"bar\", rot=90)"
   ]
  },
  {
   "cell_type": "markdown",
   "metadata": {},
   "source": [
    "**Notes:**<br>\n",
    "Most OS used by the visitors are **Android, Windows, and iOS.**"
   ]
  },
  {
   "cell_type": "code",
   "execution_count": 29,
   "metadata": {},
   "outputs": [
    {
     "data": {
      "text/plain": [
       "<matplotlib.axes._subplots.AxesSubplot at 0x1e33d9fbdc8>"
      ]
     },
     "execution_count": 29,
     "metadata": {},
     "output_type": "execute_result"
    },
    {
     "data": {
      "image/png": "[encoded data removed]",
      "text/plain": [
       "<Figure size 432x288 with 1 Axes>"
      ]
     },
     "metadata": {
      "needs_background": "light"
     },
     "output_type": "display_data"
    }
   ],
   "source": [
    "# What bitrate range mostly set by the watcher?\n",
    "df['bitrate_range'].value_counts().plot(kind=\"bar\", rot=90)"
   ]
  },
  {
   "cell_type": "markdown",
   "metadata": {},
   "source": [
    "**Notes:**<br>\n",
    "Most users set its bitrange in **200-500.**"
   ]
  },
  {
   "cell_type": "code",
   "execution_count": 30,
   "metadata": {},
   "outputs": [
    {
     "data": {
      "text/plain": [
       "browser_name\n",
       "Other                  29142\n",
       "Facebook               18776\n",
       "ChromeMobile           17518\n",
       "Chrome                  7637\n",
       "ChromeMobileWebView     6833\n",
       "UCBrowser               3232\n",
       "OperaMobile             2041\n",
       "SamsungInternet         2008\n",
       "MobileSafari            1530\n",
       "Firefox                 1344\n",
       "Name: hash_watcher_id, dtype: int64"
      ]
     },
     "execution_count": 30,
     "metadata": {},
     "output_type": "execute_result"
    }
   ],
   "source": [
    "# What is the type of browser that used by watcher to stream?\n",
    "fav_browser = df.groupby(['browser_name'])['hash_watcher_id'].count().sort_values(ascending=False)\n",
    "fav_browser.head(10)"
   ]
  },
  {
   "cell_type": "markdown",
   "metadata": {},
   "source": [
    "**Notes:**<br>\n",
    "Most of the users access the content from **Facebook, ChromeMobile, and Chrome.**"
   ]
  },
  {
   "cell_type": "code",
   "execution_count": 31,
   "metadata": {},
   "outputs": [
    {
     "data": {
      "text/plain": [
       "<matplotlib.axes._subplots.AxesSubplot at 0x1e33daad308>"
      ]
     },
     "execution_count": 31,
     "metadata": {},
     "output_type": "execute_result"
    },
    {
     "data": {
      "image/png": "[encoded data removed]",
      "text/plain": [
       "<Figure size 432x288 with 1 Axes>"
      ]
     },
     "metadata": {
      "needs_background": "light"
     },
     "output_type": "display_data"
    }
   ],
   "source": [
    "# Which app mostly used?\n",
    "df['app_name'].value_counts().plot(kind=\"bar\", rot=0)"
   ]
  },
  {
   "cell_type": "markdown",
   "metadata": {},
   "source": [
    "**Notes:**<br>\n",
    "**Vidio** is mostly used compare to liputan6 and bola."
   ]
  },
  {
   "cell_type": "code",
   "execution_count": 32,
   "metadata": {},
   "outputs": [
    {
     "data": {
      "text/plain": [
       "<matplotlib.axes._subplots.AxesSubplot at 0x1e33db03488>"
      ]
     },
     "execution_count": 32,
     "metadata": {},
     "output_type": "execute_result"
    },
    {
     "data": {
      "image/png": "[encoded data removed]",
      "text/plain": [
       "<Figure size 432x288 with 1 Axes>"
      ]
     },
     "metadata": {
      "needs_background": "light"
     },
     "output_type": "display_data"
    }
   ],
   "source": [
    "# What type of content is watcher's favourite?\n",
    "df['content_type'].value_counts().plot(kind=\"bar\", rot=0)"
   ]
  },
  {
   "cell_type": "code",
   "execution_count": 33,
   "metadata": {},
   "outputs": [
    {
     "data": {
      "text/plain": [
       "content_type\n",
       "vod              56038\n",
       "livestreaming    36999\n",
       "catchup            372\n",
       "Name: hash_watcher_id, dtype: int64"
      ]
     },
     "execution_count": 33,
     "metadata": {},
     "output_type": "execute_result"
    }
   ],
   "source": [
    "# What is the type of content that mostly watch?\n",
    "df.groupby(['content_type'])['hash_watcher_id'].count().sort_values(ascending=False)"
   ]
  },
  {
   "cell_type": "markdown",
   "metadata": {},
   "source": [
    "**Notes:**<br>\n",
    "Most users tend to access **VoD and Live Streaming** content compared to catchup content."
   ]
  },
  {
   "cell_type": "code",
   "execution_count": 34,
   "metadata": {},
   "outputs": [
    {
     "data": {
      "text/plain": [
       "<matplotlib.axes._subplots.AxesSubplot at 0x1e33db73888>"
      ]
     },
     "execution_count": 34,
     "metadata": {},
     "output_type": "execute_result"
    },
    {
     "data": {
      "image/png": "[encoded data removed]",
      "text/plain": [
       "<Figure size 432x288 with 1 Axes>"
      ]
     },
     "metadata": {
      "needs_background": "light"
     },
     "output_type": "display_data"
    }
   ],
   "source": [
    "df['category_name'].value_counts().plot(kind=\"bar\", rot=90)"
   ]
  },
  {
   "cell_type": "code",
   "execution_count": 35,
   "metadata": {},
   "outputs": [
    {
     "data": {
      "text/plain": [
       "category_name\n",
       "OTHERS           28111466\n",
       "Movies            2970750\n",
       "TVShow            2602159\n",
       "Vlog               890463\n",
       "Entertainment      808627\n",
       "Music              741924\n",
       "News               549513\n",
       "TV                 131832\n",
       "Sports             131735\n",
       "Kids                33917\n",
       "Lifestyle           33721\n",
       "Korea               33036\n",
       "Funny               14173\n",
       "Education           13630\n",
       "Webtoon             11248\n",
       "Champions            1418\n",
       "Horror                794\n",
       "Name: play_duration, dtype: int64"
      ]
     },
     "execution_count": 35,
     "metadata": {},
     "output_type": "execute_result"
    }
   ],
   "source": [
    "# Favourite platform baseed on total play duration\n",
    "df.groupby(['category_name'])['play_duration'].sum().sort_values(ascending=False)"
   ]
  },
  {
   "cell_type": "markdown",
   "metadata": {},
   "source": [
    "**Notes:**<br>\n",
    "1. Most of the content's category is unknown(OTHERS).\n",
    "2. From the data given, visitors tend to access **Entertainment, News, and Sports** contents.\n",
    "3. Visitors who access **Movies, TVShow, and Vlog** has the longest total play duration."
   ]
  },
  {
   "cell_type": "code",
   "execution_count": 36,
   "metadata": {},
   "outputs": [
    {
     "data": {
      "text/plain": [
       "hash_watcher_id\n",
       "e3b0c44298fc1c149afbf4c8996fb92427ae41e4649b934ca495991b7852b855    929089\n",
       "1037f78e497361fcf21323b537e1f05264f26ee233697c052a679b0756699a39     82455\n",
       "8396a2cdf048462cb24f81225433524783116200a71bc502e3562bbd0b5958d6     77280\n",
       "83f4d120aaa71c673ceae6733feb59687272e7a00e2bc95baf46db98d4acab59     75720\n",
       "3986f1f1ffaa52af465c60e8114e06f54e8a7aa332b109324e103d93de0eb954     55080\n",
       "7d758d0ffbd18ed056934f14b668d45d48928d4e382fcb9fa4db1b52d3229078     46410\n",
       "133af93c4a0191b2d31fecb34b7653836abe32b769be2329dcc20696607a55bb     45375\n",
       "d66753dcaf5b192ce7233bd69e7d935101c3ad7b6b2e29658dd2bd48d50b3933     44715\n",
       "6a077b17388304fc64b0ea4e1ab1c04d72d1e9aa100b18155a144dc7c18081cc     42750\n",
       "c21fc26bb40aaebe523a23920f5f7f622f38e80cc51796886100be58fa797ea7     42120\n",
       "Name: play_duration, dtype: int64"
      ]
     },
     "execution_count": 36,
     "metadata": {},
     "output_type": "execute_result"
    }
   ],
   "source": [
    "# Top 10 visitors by play duration\n",
    "top_visitor=df.groupby(['hash_watcher_id'])['play_duration'].sum().sort_values(ascending=False)\n",
    "top_visitor.head(10)"
   ]
  },
  {
   "cell_type": "markdown",
   "metadata": {},
   "source": [
    "#### Top 10 visitors by using play_duration per day?\n",
    "<a id='z'></a>"
   ]
  },
  {
   "cell_type": "code",
   "execution_count": 37,
   "metadata": {},
   "outputs": [],
   "source": [
    "# change play_time and end_time into datetime format\n",
    "df['play_time'] = pd.to_datetime(df['play_time']).dt.tz_convert('Australia/Sydney')\n",
    "df['end_time'] = pd.to_datetime(df['end_time']).dt.tz_convert('Australia/Sydney')"
   ]
  },
  {
   "cell_type": "code",
   "execution_count": 38,
   "metadata": {},
   "outputs": [],
   "source": [
    "# create 'play_day' to know the date the user starts playing the content\n",
    "df['play_day'] = df['play_time'].dt.date"
   ]
  },
  {
   "cell_type": "code",
   "execution_count": 39,
   "metadata": {},
   "outputs": [],
   "source": [
    "# Top 10 visitors by using play_duration per day (based on the day he/she starts play the content)\n",
    "play_duration_day=df.groupby(['play_day','hash_watcher_id'], as_index=False)['play_duration'].sum()"
   ]
  },
  {
   "cell_type": "code",
   "execution_count": 40,
   "metadata": {},
   "outputs": [],
   "source": [
    "play_duration_day = play_duration_day.sort_values(by=['play_duration'],ignore_index=True,ascending=[False])"
   ]
  },
  {
   "cell_type": "code",
   "execution_count": 41,
   "metadata": {},
   "outputs": [
    {
     "data": {
      "text/html": [
       "<div>\n",
       "<style scoped>\n",
       "    .dataframe tbody tr th:only-of-type {\n",
       "        vertical-align: middle;\n",
       "    }\n",
       "\n",
       "    .dataframe tbody tr th {\n",
       "        vertical-align: top;\n",
       "    }\n",
       "\n",
       "    .dataframe thead th {\n",
       "        text-align: right;\n",
       "    }\n",
       "</style>\n",
       "<table border=\"1\" class=\"dataframe\">\n",
       "  <thead>\n",
       "    <tr style=\"text-align: right;\">\n",
       "      <th></th>\n",
       "      <th>play_day</th>\n",
       "      <th>hash_watcher_id</th>\n",
       "      <th>play_duration</th>\n",
       "    </tr>\n",
       "  </thead>\n",
       "  <tbody>\n",
       "    <tr>\n",
       "      <th>0</th>\n",
       "      <td>2020-02-06</td>\n",
       "      <td>e3b0c44298fc1c149afbf4c8996fb92427ae41e4649b93...</td>\n",
       "      <td>129705</td>\n",
       "    </tr>\n",
       "    <tr>\n",
       "      <th>1</th>\n",
       "      <td>2020-02-03</td>\n",
       "      <td>e3b0c44298fc1c149afbf4c8996fb92427ae41e4649b93...</td>\n",
       "      <td>114402</td>\n",
       "    </tr>\n",
       "    <tr>\n",
       "      <th>2</th>\n",
       "      <td>2020-02-14</td>\n",
       "      <td>1037f78e497361fcf21323b537e1f05264f26ee233697c...</td>\n",
       "      <td>82455</td>\n",
       "    </tr>\n",
       "    <tr>\n",
       "      <th>3</th>\n",
       "      <td>2020-02-09</td>\n",
       "      <td>8396a2cdf048462cb24f81225433524783116200a71bc5...</td>\n",
       "      <td>77280</td>\n",
       "    </tr>\n",
       "    <tr>\n",
       "      <th>4</th>\n",
       "      <td>2020-02-09</td>\n",
       "      <td>e3b0c44298fc1c149afbf4c8996fb92427ae41e4649b93...</td>\n",
       "      <td>71704</td>\n",
       "    </tr>\n",
       "    <tr>\n",
       "      <th>5</th>\n",
       "      <td>2020-02-02</td>\n",
       "      <td>e3b0c44298fc1c149afbf4c8996fb92427ae41e4649b93...</td>\n",
       "      <td>69735</td>\n",
       "    </tr>\n",
       "    <tr>\n",
       "      <th>6</th>\n",
       "      <td>2020-02-13</td>\n",
       "      <td>e3b0c44298fc1c149afbf4c8996fb92427ae41e4649b93...</td>\n",
       "      <td>67505</td>\n",
       "    </tr>\n",
       "    <tr>\n",
       "      <th>7</th>\n",
       "      <td>2020-02-10</td>\n",
       "      <td>e3b0c44298fc1c149afbf4c8996fb92427ae41e4649b93...</td>\n",
       "      <td>63995</td>\n",
       "    </tr>\n",
       "    <tr>\n",
       "      <th>8</th>\n",
       "      <td>2020-02-16</td>\n",
       "      <td>e3b0c44298fc1c149afbf4c8996fb92427ae41e4649b93...</td>\n",
       "      <td>55980</td>\n",
       "    </tr>\n",
       "    <tr>\n",
       "      <th>9</th>\n",
       "      <td>2020-02-04</td>\n",
       "      <td>e3b0c44298fc1c149afbf4c8996fb92427ae41e4649b93...</td>\n",
       "      <td>55725</td>\n",
       "    </tr>\n",
       "  </tbody>\n",
       "</table>\n",
       "</div>"
      ],
      "text/plain": [
       "     play_day                                    hash_watcher_id  \\\n",
       "0  2020-02-06  e3b0c44298fc1c149afbf4c8996fb92427ae41e4649b93...   \n",
       "1  2020-02-03  e3b0c44298fc1c149afbf4c8996fb92427ae41e4649b93...   \n",
       "2  2020-02-14  1037f78e497361fcf21323b537e1f05264f26ee233697c...   \n",
       "3  2020-02-09  8396a2cdf048462cb24f81225433524783116200a71bc5...   \n",
       "4  2020-02-09  e3b0c44298fc1c149afbf4c8996fb92427ae41e4649b93...   \n",
       "5  2020-02-02  e3b0c44298fc1c149afbf4c8996fb92427ae41e4649b93...   \n",
       "6  2020-02-13  e3b0c44298fc1c149afbf4c8996fb92427ae41e4649b93...   \n",
       "7  2020-02-10  e3b0c44298fc1c149afbf4c8996fb92427ae41e4649b93...   \n",
       "8  2020-02-16  e3b0c44298fc1c149afbf4c8996fb92427ae41e4649b93...   \n",
       "9  2020-02-04  e3b0c44298fc1c149afbf4c8996fb92427ae41e4649b93...   \n",
       "\n",
       "   play_duration  \n",
       "0         129705  \n",
       "1         114402  \n",
       "2          82455  \n",
       "3          77280  \n",
       "4          71704  \n",
       "5          69735  \n",
       "6          67505  \n",
       "7          63995  \n",
       "8          55980  \n",
       "9          55725  "
      ]
     },
     "execution_count": 41,
     "metadata": {},
     "output_type": "execute_result"
    }
   ],
   "source": [
    "play_duration_day.head(10)"
   ]
  },
  {
   "cell_type": "markdown",
   "metadata": {},
   "source": [
    "**Notes:**\n",
    "Check in [here](#y)"
   ]
  },
  {
   "cell_type": "code",
   "execution_count": 42,
   "metadata": {},
   "outputs": [
    {
     "data": {
      "text/plain": [
       "is_premium\n",
       "False             260,832.93\n",
       "True                  616.46\n",
       "Name: buffer_duration, dtype: float64"
      ]
     },
     "execution_count": 42,
     "metadata": {},
     "output_type": "execute_result"
    }
   ],
   "source": [
    "# See the average buffer duration in member and non-member watcher\n",
    "df.groupby(['is_premium'])['buffer_duration'].mean().sort_values(ascending=False)"
   ]
  },
  {
   "cell_type": "code",
   "execution_count": 43,
   "metadata": {},
   "outputs": [
    {
     "name": "stdout",
     "output_type": "stream",
     "text": [
      "<class 'pandas.core.frame.DataFrame'>\n",
      "RangeIndex: 93409 entries, 0 to 93408\n",
      "Data columns (total 41 columns):\n",
      " #   Column             Non-Null Count  Dtype                           \n",
      "---  ------             --------------  -----                           \n",
      " 0   hash_content_id    93409 non-null  object                          \n",
      " 1   hash_play_id       93409 non-null  object                          \n",
      " 2   hash_visit_id      93409 non-null  object                          \n",
      " 3   hash_watcher_id    93409 non-null  object                          \n",
      " 4   hash_film_id       93409 non-null  object                          \n",
      " 5   hash_event_id      93409 non-null  object                          \n",
      " 6   is_login           93409 non-null  bool                            \n",
      " 7   playback_location  93409 non-null  object                          \n",
      " 8   platform           93409 non-null  object                          \n",
      " 9   play_time          93409 non-null  datetime64[ns, Australia/Sydney]\n",
      " 10  end_time           93409 non-null  datetime64[ns, Australia/Sydney]\n",
      " 11  referrer           93409 non-null  object                          \n",
      " 12  average_bitrate    93409 non-null  float64                         \n",
      " 13  bitrate_range      93409 non-null  object                          \n",
      " 14  total_bytes        93409 non-null  int64                           \n",
      " 15  buffer_duration    93409 non-null  float64                         \n",
      " 16  referrer_group     93409 non-null  object                          \n",
      " 17  completed          93409 non-null  bool                            \n",
      " 18  utm_source         93409 non-null  object                          \n",
      " 19  utm_medium         93409 non-null  object                          \n",
      " 20  utm_campaign       93409 non-null  object                          \n",
      " 21  player_name        93409 non-null  object                          \n",
      " 22  has_ad             93409 non-null  bool                            \n",
      " 23  flash_version      93409 non-null  object                          \n",
      " 24  os_name            93409 non-null  object                          \n",
      " 25  os_version         93409 non-null  object                          \n",
      " 26  browser_name       93409 non-null  object                          \n",
      " 27  browser_version    93409 non-null  object                          \n",
      " 28  app_name           93409 non-null  object                          \n",
      " 29  autoplay           93409 non-null  bool                            \n",
      " 30  is_premium         93409 non-null  bool                            \n",
      " 31  app_version        93409 non-null  object                          \n",
      " 32  play_duration      93409 non-null  int64                           \n",
      " 33  content_type       93409 non-null  object                          \n",
      " 34  stream_type        93409 non-null  object                          \n",
      " 35  title              93409 non-null  object                          \n",
      " 36  category_name      93409 non-null  object                          \n",
      " 37  film_title         93409 non-null  object                          \n",
      " 38  season_name        93409 non-null  object                          \n",
      " 39  genre_name         93409 non-null  object                          \n",
      " 40  play_day           93409 non-null  object                          \n",
      "dtypes: bool(5), datetime64[ns, Australia/Sydney](2), float64(2), int64(2), object(30)\n",
      "memory usage: 26.1+ MB\n"
     ]
    }
   ],
   "source": [
    "df.info()"
   ]
  },
  {
   "cell_type": "markdown",
   "metadata": {},
   "source": [
    "## 4. Buffering Problem\n",
    "<a id='d'></a>"
   ]
  },
  {
   "cell_type": "markdown",
   "metadata": {},
   "source": [
    "In this part, I try to see what might cause buffering problem for the visitors by considering only several variables from the dataset."
   ]
  },
  {
   "cell_type": "code",
   "execution_count": 44,
   "metadata": {},
   "outputs": [
    {
     "data": {
      "text/plain": [
       "count              93,409.00\n",
       "mean              259,434.47\n",
       "std            79,181,003.58\n",
       "min                     0.00\n",
       "25%                     0.01\n",
       "50%                     1.00\n",
       "75%                     6.00\n",
       "max        24,200,000,000.00\n",
       "Name: buffer_duration, dtype: float64"
      ]
     },
     "execution_count": 44,
     "metadata": {},
     "output_type": "execute_result"
    }
   ],
   "source": [
    "df['buffer_duration'].describe()"
   ]
  },
  {
   "cell_type": "code",
   "execution_count": 45,
   "metadata": {},
   "outputs": [
    {
     "data": {
      "text/plain": [
       "True                    0.75\n",
       "False                   0.25\n",
       "Name: is_buffer, dtype: float64"
      ]
     },
     "execution_count": 45,
     "metadata": {},
     "output_type": "execute_result"
    }
   ],
   "source": [
    "# generate 'is_buffer' to see the percentage of the visitors that has buffering\n",
    "df['is_buffer'] = (df['buffer_duration'] > 0).astype(bool)\n",
    "df['is_buffer'].value_counts(normalize=True)"
   ]
  },
  {
   "cell_type": "markdown",
   "metadata": {},
   "source": [
    "**Notes:**<br>\n",
    "3/4 of the visitors suffers buffering problem. That's why it is important to see what might caused the buffering."
   ]
  },
  {
   "cell_type": "code",
   "execution_count": 46,
   "metadata": {},
   "outputs": [],
   "source": [
    "# show the outliers in buffer_duration\n",
    "def get_iqr_values(df_in, col_name):\n",
    "    median = df_in[col_name].median()\n",
    "    q1 = df_in[col_name].quantile(0.25) # 25th percentile / 1st quartile\n",
    "    q3 = df_in[col_name].quantile(0.75) # 7th percentile / 3rd quartile\n",
    "    iqr = q3-q1 #Interquartile range\n",
    "    minimum  = q1-1.5*iqr # The minimum value or the |- marker in the box plot\n",
    "    maximum = q3+1.5*iqr # The maximum value or the -| marker in the box plot\n",
    "    return median, q1, q3, iqr, minimum, maximum\n",
    "\n",
    "def get_iqr_text(df_in, col_name):\n",
    "    median, q1, q3, iqr, minimum, maximum = get_iqr_values(df_in, col_name)\n",
    "    text = f\"median={median:.2f}, q1={q1:.2f}, q3={q3:.2f}, iqr={iqr:.2f}, minimum={minimum:.2f}, maximum={maximum:.2f}\"\n",
    "    return text\n",
    "\n",
    "def remove_outliers(df_in, col_name):\n",
    "    _, _, _, _, minimum, maximum = get_iqr_values(df_in, col_name)\n",
    "    df_out = df_in.loc[(df_in[col_name] > minimum) & (df_in[col_name] < maximum)]\n",
    "    return df_out\n",
    "\n",
    "def count_outliers(df_in, col_name):\n",
    "    _, _, _, _, minimum, maximum = get_iqr_values(df_in, col_name)\n",
    "    df_outliers = df_in.loc[(df_in[col_name] <= minimum) | (df_in[col_name] >= maximum)]\n",
    "    return df_outliers.shape[0]\n",
    "\n",
    "def box_and_whisker(df_in, col_name):\n",
    "    title = get_iqr_text(df_in, col_name)\n",
    "    sns.boxplot(df_in[col_name])\n",
    "    plt.title(title)\n",
    "    plt.show()"
   ]
  },
  {
   "cell_type": "code",
   "execution_count": 49,
   "metadata": {},
   "outputs": [
    {
     "data": {
      "image/png": "[encoded data removed]",
      "text/plain": [
       "<Figure size 432x288 with 1 Axes>"
      ]
     },
     "metadata": {
      "needs_background": "light"
     },
     "output_type": "display_data"
    },
    {
     "name": "stdout",
     "output_type": "stream",
     "text": [
      "buffer_duration has 14969 outliers\n"
     ]
    }
   ],
   "source": [
    "# boxplot of buffer_duration\n",
    "box_and_whisker(df, 'buffer_duration')\n",
    "\n",
    "\n",
    "_, _, _, _, minimum_Col1_before, maximum_Col1_before = get_iqr_values(df, 'buffer_duration')\n",
    "\n",
    "# count the outliers\n",
    "print(f\"buffer_duration has {count_outliers(df, 'buffer_duration')} outliers\")\n",
    "\n"
   ]
  },
  {
   "cell_type": "code",
   "execution_count": 50,
   "metadata": {},
   "outputs": [
    {
     "name": "stdout",
     "output_type": "stream",
     "text": [
      "rows before removing: 93409\n",
      "rows after removing: 78440\n"
     ]
    },
    {
     "data": {
      "image/png": "[encoded data removed]",
      "text/plain": [
       "<Figure size 432x288 with 1 Axes>"
      ]
     },
     "metadata": {
      "needs_background": "light"
     },
     "output_type": "display_data"
    }
   ],
   "source": [
    "# remove the outliers in buffer_duration\n",
    "\n",
    "print(f\"rows before removing: {df.shape[0]}\")\n",
    "new_df = remove_outliers(df, 'buffer_duration')\n",
    "print(f\"rows after removing: {new_df.shape[0]}\")\n",
    "\n",
    "# Let's have a look at the end-result. Here is something very strange though, our data still appears to have outliers!\n",
    "box_and_whisker(new_df, 'buffer_duration')\n",
    "\n",
    "\n",
    "_, _, _, _, minimum_Col1_after, maximum_Col1_after = get_iqr_values(new_df, 'buffer_duration')"
   ]
  },
  {
   "cell_type": "code",
   "execution_count": 51,
   "metadata": {},
   "outputs": [
    {
     "data": {
      "text/plain": [
       "(78440, 42)"
      ]
     },
     "execution_count": 51,
     "metadata": {},
     "output_type": "execute_result"
    }
   ],
   "source": [
    "new_df.shape"
   ]
  },
  {
   "cell_type": "code",
   "execution_count": 52,
   "metadata": {},
   "outputs": [
    {
     "name": "stdout",
     "output_type": "stream",
     "text": [
      "<class 'pandas.core.frame.DataFrame'>\n",
      "Int64Index: 78440 entries, 0 to 93408\n",
      "Data columns (total 42 columns):\n",
      " #   Column             Non-Null Count  Dtype                           \n",
      "---  ------             --------------  -----                           \n",
      " 0   hash_content_id    78440 non-null  object                          \n",
      " 1   hash_play_id       78440 non-null  object                          \n",
      " 2   hash_visit_id      78440 non-null  object                          \n",
      " 3   hash_watcher_id    78440 non-null  object                          \n",
      " 4   hash_film_id       78440 non-null  object                          \n",
      " 5   hash_event_id      78440 non-null  object                          \n",
      " 6   is_login           78440 non-null  bool                            \n",
      " 7   playback_location  78440 non-null  object                          \n",
      " 8   platform           78440 non-null  object                          \n",
      " 9   play_time          78440 non-null  datetime64[ns, Australia/Sydney]\n",
      " 10  end_time           78440 non-null  datetime64[ns, Australia/Sydney]\n",
      " 11  referrer           78440 non-null  object                          \n",
      " 12  average_bitrate    78440 non-null  float64                         \n",
      " 13  bitrate_range      78440 non-null  object                          \n",
      " 14  total_bytes        78440 non-null  int64                           \n",
      " 15  buffer_duration    78440 non-null  float64                         \n",
      " 16  referrer_group     78440 non-null  object                          \n",
      " 17  completed          78440 non-null  bool                            \n",
      " 18  utm_source         78440 non-null  object                          \n",
      " 19  utm_medium         78440 non-null  object                          \n",
      " 20  utm_campaign       78440 non-null  object                          \n",
      " 21  player_name        78440 non-null  object                          \n",
      " 22  has_ad             78440 non-null  bool                            \n",
      " 23  flash_version      78440 non-null  object                          \n",
      " 24  os_name            78440 non-null  object                          \n",
      " 25  os_version         78440 non-null  object                          \n",
      " 26  browser_name       78440 non-null  object                          \n",
      " 27  browser_version    78440 non-null  object                          \n",
      " 28  app_name           78440 non-null  object                          \n",
      " 29  autoplay           78440 non-null  bool                            \n",
      " 30  is_premium         78440 non-null  bool                            \n",
      " 31  app_version        78440 non-null  object                          \n",
      " 32  play_duration      78440 non-null  int64                           \n",
      " 33  content_type       78440 non-null  object                          \n",
      " 34  stream_type        78440 non-null  object                          \n",
      " 35  title              78440 non-null  object                          \n",
      " 36  category_name      78440 non-null  object                          \n",
      " 37  film_title         78440 non-null  object                          \n",
      " 38  season_name        78440 non-null  object                          \n",
      " 39  genre_name         78440 non-null  object                          \n",
      " 40  play_day           78440 non-null  object                          \n",
      " 41  is_buffer          78440 non-null  bool                            \n",
      "dtypes: bool(6), datetime64[ns, Australia/Sydney](2), float64(2), int64(2), object(30)\n",
      "memory usage: 22.6+ MB\n"
     ]
    }
   ],
   "source": [
    "new_df.info()"
   ]
  },
  {
   "cell_type": "markdown",
   "metadata": {},
   "source": [
    "## See the correlation between buffering duration with some categorical variables\n",
    "The test will be done using ANOVA (t-test) between buffering duration as target variables and the predictors are:\n",
    "1. os_name\n",
    "2. browser_name\n",
    "3. app_name\n",
    "4. is_premium\n",
    "5. content_type\n",
    "6. stream_type\n",
    "7. bitrate_range"
   ]
  },
  {
   "cell_type": "markdown",
   "metadata": {},
   "source": [
    "Hypothesis: <br>\n",
    "\n",
    "- Null hypothesis(H0): There's no correlation between variables.\n",
    "- Alternatiive hypthosesis(Ha): There's correlation between variables.\n",
    "\n",
    "Interpret P-value: <br>\n",
    "- Accept Null hypothesis if P-value>0.05. Means variables are NOT correlated\n",
    "- Reject Null hypothesis if P-value<0.05. Means variables are correlated"
   ]
  },
  {
   "cell_type": "code",
   "execution_count": 53,
   "metadata": {},
   "outputs": [],
   "source": [
    "from scipy.stats import f_oneway"
   ]
  },
  {
   "cell_type": "code",
   "execution_count": 54,
   "metadata": {},
   "outputs": [
    {
     "data": {
      "text/html": [
       "<div>\n",
       "<style scoped>\n",
       "    .dataframe tbody tr th:only-of-type {\n",
       "        vertical-align: middle;\n",
       "    }\n",
       "\n",
       "    .dataframe tbody tr th {\n",
       "        vertical-align: top;\n",
       "    }\n",
       "\n",
       "    .dataframe thead th {\n",
       "        text-align: right;\n",
       "    }\n",
       "</style>\n",
       "<table border=\"1\" class=\"dataframe\">\n",
       "  <thead>\n",
       "    <tr style=\"text-align: right;\">\n",
       "      <th></th>\n",
       "      <th>average_bitrate</th>\n",
       "      <th>total_bytes</th>\n",
       "      <th>buffer_duration</th>\n",
       "      <th>play_duration</th>\n",
       "    </tr>\n",
       "  </thead>\n",
       "  <tbody>\n",
       "    <tr>\n",
       "      <th>count</th>\n",
       "      <td>78,440.00</td>\n",
       "      <td>78,440.00</td>\n",
       "      <td>78,440.00</td>\n",
       "      <td>78,440.00</td>\n",
       "    </tr>\n",
       "    <tr>\n",
       "      <th>mean</th>\n",
       "      <td>199,671.27</td>\n",
       "      <td>49,888,661.89</td>\n",
       "      <td>1.94</td>\n",
       "      <td>256.84</td>\n",
       "    </tr>\n",
       "    <tr>\n",
       "      <th>std</th>\n",
       "      <td>141,304.97</td>\n",
       "      <td>360,611,068.21</td>\n",
       "      <td>2.95</td>\n",
       "      <td>1,172.13</td>\n",
       "    </tr>\n",
       "    <tr>\n",
       "      <th>min</th>\n",
       "      <td>144.00</td>\n",
       "      <td>0.00</td>\n",
       "      <td>0.00</td>\n",
       "      <td>0.00</td>\n",
       "    </tr>\n",
       "    <tr>\n",
       "      <th>25%</th>\n",
       "      <td>633.00</td>\n",
       "      <td>750.00</td>\n",
       "      <td>0.00</td>\n",
       "      <td>4.00</td>\n",
       "    </tr>\n",
       "    <tr>\n",
       "      <th>50%</th>\n",
       "      <td>300,000.00</td>\n",
       "      <td>375,000.00</td>\n",
       "      <td>0.55</td>\n",
       "      <td>34.00</td>\n",
       "    </tr>\n",
       "    <tr>\n",
       "      <th>75%</th>\n",
       "      <td>300,000.00</td>\n",
       "      <td>4,500,000.00</td>\n",
       "      <td>2.76</td>\n",
       "      <td>75.00</td>\n",
       "    </tr>\n",
       "    <tr>\n",
       "      <th>max</th>\n",
       "      <td>300,000.00</td>\n",
       "      <td>30,920,625,000.00</td>\n",
       "      <td>14.97</td>\n",
       "      <td>82,455.00</td>\n",
       "    </tr>\n",
       "  </tbody>\n",
       "</table>\n",
       "</div>"
      ],
      "text/plain": [
       "           average_bitrate          total_bytes      buffer_duration  \\\n",
       "count            78,440.00            78,440.00            78,440.00   \n",
       "mean            199,671.27        49,888,661.89                 1.94   \n",
       "std             141,304.97       360,611,068.21                 2.95   \n",
       "min                 144.00                 0.00                 0.00   \n",
       "25%                 633.00               750.00                 0.00   \n",
       "50%             300,000.00           375,000.00                 0.55   \n",
       "75%             300,000.00         4,500,000.00                 2.76   \n",
       "max             300,000.00    30,920,625,000.00                14.97   \n",
       "\n",
       "             play_duration  \n",
       "count            78,440.00  \n",
       "mean                256.84  \n",
       "std               1,172.13  \n",
       "min                   0.00  \n",
       "25%                   4.00  \n",
       "50%                  34.00  \n",
       "75%                  75.00  \n",
       "max              82,455.00  "
      ]
     },
     "execution_count": 54,
     "metadata": {},
     "output_type": "execute_result"
    }
   ],
   "source": [
    "new_df.describe()"
   ]
  },
  {
   "cell_type": "markdown",
   "metadata": {},
   "source": [
    "### 1. os_name "
   ]
  },
  {
   "cell_type": "code",
   "execution_count": 55,
   "metadata": {},
   "outputs": [
    {
     "data": {
      "text/plain": [
       "array(['Android', 'REL', 'Other', 'iOS', 'Windows', 'MacOSX', 'Tizen',\n",
       "       'Linux', 'WindowsPhone', 'ChromeOS', 'Ubuntu', 'BlackBerryOS'],\n",
       "      dtype=object)"
      ]
     },
     "execution_count": 55,
     "metadata": {},
     "output_type": "execute_result"
    }
   ],
   "source": [
    "new_df['os_name'].unique()"
   ]
  },
  {
   "cell_type": "code",
   "execution_count": 56,
   "metadata": {},
   "outputs": [
    {
     "name": "stdout",
     "output_type": "stream",
     "text": [
      "P-Value for ANOVA is: 0.0\n"
     ]
    }
   ],
   "source": [
    "CategoryGroupLists = new_df.groupby('os_name')['buffer_duration'].apply(list)\n",
    "AnovaResults = f_oneway(*CategoryGroupLists)\n",
    "print('P-Value for ANOVA is:', AnovaResults[1])"
   ]
  },
  {
   "cell_type": "markdown",
   "metadata": {},
   "source": [
    "### 2. browser_name"
   ]
  },
  {
   "cell_type": "code",
   "execution_count": 57,
   "metadata": {},
   "outputs": [
    {
     "data": {
      "text/plain": [
       "array(['ChromeMobileWebView', 'Chrome', 'UCBrowser', 'Other',\n",
       "       'ChromeMobile', 'Facebook', 'SamsungInternet', 'OperaMobile',\n",
       "       'LINE', 'MiuiBrowser', 'FirefoxMobile', 'Firefox',\n",
       "       'ChromeMobileiOS', 'MobileSafari', 'YandexBrowser', 'Google',\n",
       "       'AppleMail', 'Safari', 'Opera', 'Puffin', 'Android', 'Flipboard',\n",
       "       'Instagram', 'Edge', 'Maxthon', 'EdgeMobile',\n",
       "       'MobileSafariUI/WKWebView', 'MintBrowser', 'FirefoxiOS',\n",
       "       'AmazonSilk', 'HeadlessChrome', 'Flipboard-Briefing', 'Vivaldi',\n",
       "       'BlackBerryWebKit', 'Chromium', 'Pinterest', 'Waterfox'],\n",
       "      dtype=object)"
      ]
     },
     "execution_count": 57,
     "metadata": {},
     "output_type": "execute_result"
    }
   ],
   "source": [
    "df['browser_name'].unique()"
   ]
  },
  {
   "cell_type": "code",
   "execution_count": 58,
   "metadata": {},
   "outputs": [
    {
     "name": "stdout",
     "output_type": "stream",
     "text": [
      "P-Value for ANOVA is: 0.0\n"
     ]
    }
   ],
   "source": [
    "CategoryGroupLists = new_df.groupby('browser_name')['buffer_duration'].apply(list)\n",
    "AnovaResults = f_oneway(*CategoryGroupLists)\n",
    "print('P-Value for ANOVA is:', AnovaResults[1])"
   ]
  },
  {
   "cell_type": "markdown",
   "metadata": {},
   "source": [
    "### 3. app_name "
   ]
  },
  {
   "cell_type": "code",
   "execution_count": 59,
   "metadata": {},
   "outputs": [
    {
     "data": {
      "text/plain": [
       "array(['vidio', 'liputan6', 'bola'], dtype=object)"
      ]
     },
     "execution_count": 59,
     "metadata": {},
     "output_type": "execute_result"
    }
   ],
   "source": [
    "df['app_name'].unique()"
   ]
  },
  {
   "cell_type": "code",
   "execution_count": 60,
   "metadata": {},
   "outputs": [
    {
     "name": "stdout",
     "output_type": "stream",
     "text": [
      "P-Value for ANOVA is: 0.8106108827089065\n"
     ]
    }
   ],
   "source": [
    "CategoryGroupLists = new_df.groupby('app_name')['buffer_duration'].apply(list)\n",
    "AnovaResults = f_oneway(*CategoryGroupLists)\n",
    "print('P-Value for ANOVA is:', AnovaResults[1])"
   ]
  },
  {
   "cell_type": "markdown",
   "metadata": {},
   "source": [
    "### 4. is_premium"
   ]
  },
  {
   "cell_type": "code",
   "execution_count": 61,
   "metadata": {},
   "outputs": [
    {
     "data": {
      "text/plain": [
       "array([False,  True])"
      ]
     },
     "execution_count": 61,
     "metadata": {},
     "output_type": "execute_result"
    }
   ],
   "source": [
    "df['is_premium'].unique()"
   ]
  },
  {
   "cell_type": "code",
   "execution_count": 62,
   "metadata": {},
   "outputs": [
    {
     "name": "stdout",
     "output_type": "stream",
     "text": [
      "P-Value for ANOVA is: 2.502296758622964e-25\n"
     ]
    }
   ],
   "source": [
    "CategoryGroupLists = new_df.groupby('is_premium')['buffer_duration'].apply(list)\n",
    "AnovaResults = f_oneway(*CategoryGroupLists)\n",
    "print('P-Value for ANOVA is:', AnovaResults[1])"
   ]
  },
  {
   "cell_type": "markdown",
   "metadata": {},
   "source": [
    "### 5. content_type"
   ]
  },
  {
   "cell_type": "code",
   "execution_count": 63,
   "metadata": {},
   "outputs": [
    {
     "data": {
      "text/plain": [
       "array(['vod', 'livestreaming', 'catchup'], dtype=object)"
      ]
     },
     "execution_count": 63,
     "metadata": {},
     "output_type": "execute_result"
    }
   ],
   "source": [
    "df['content_type'].unique()"
   ]
  },
  {
   "cell_type": "code",
   "execution_count": 64,
   "metadata": {},
   "outputs": [
    {
     "name": "stdout",
     "output_type": "stream",
     "text": [
      "P-Value for ANOVA is: 0.0\n"
     ]
    }
   ],
   "source": [
    "CategoryGroupLists = new_df.groupby('content_type')['buffer_duration'].apply(list)\n",
    "AnovaResults = f_oneway(*CategoryGroupLists)\n",
    "print('P-Value for ANOVA is:', AnovaResults[1])"
   ]
  },
  {
   "cell_type": "markdown",
   "metadata": {},
   "source": [
    "### 6. stream_type"
   ]
  },
  {
   "cell_type": "code",
   "execution_count": 65,
   "metadata": {},
   "outputs": [
    {
     "data": {
      "text/plain": [
       "array(['TvStream', 'EventStream'], dtype=object)"
      ]
     },
     "execution_count": 65,
     "metadata": {},
     "output_type": "execute_result"
    }
   ],
   "source": [
    "df['stream_type'].unique()"
   ]
  },
  {
   "cell_type": "code",
   "execution_count": 66,
   "metadata": {},
   "outputs": [
    {
     "name": "stdout",
     "output_type": "stream",
     "text": [
      "P-Value for ANOVA is: 0.33824774792780676\n"
     ]
    }
   ],
   "source": [
    "CategoryGroupLists = new_df.groupby('stream_type')['buffer_duration'].apply(list)\n",
    "AnovaResults = f_oneway(*CategoryGroupLists)\n",
    "print('P-Value for ANOVA is:', AnovaResults[1])"
   ]
  },
  {
   "cell_type": "markdown",
   "metadata": {},
   "source": [
    "### 6. bitrate_range"
   ]
  },
  {
   "cell_type": "code",
   "execution_count": 67,
   "metadata": {},
   "outputs": [
    {
     "data": {
      "text/plain": [
       "array(['200-500', '0-200', 'unknown'], dtype=object)"
      ]
     },
     "execution_count": 67,
     "metadata": {},
     "output_type": "execute_result"
    }
   ],
   "source": [
    "df['bitrate_range'].unique()"
   ]
  },
  {
   "cell_type": "code",
   "execution_count": 68,
   "metadata": {},
   "outputs": [
    {
     "name": "stdout",
     "output_type": "stream",
     "text": [
      "P-Value for ANOVA is: 8.796529081548835e-56\n"
     ]
    }
   ],
   "source": [
    "CategoryGroupLists = new_df.groupby('bitrate_range')['buffer_duration'].apply(list)\n",
    "AnovaResults = f_oneway(*CategoryGroupLists)\n",
    "print('P-Value for ANOVA is:', AnovaResults[1])"
   ]
  },
  {
   "cell_type": "markdown",
   "metadata": {},
   "source": [
    "**Notes:**<br>\n",
    "From the result of ANOVA test above we can see that **OS, Browser, Premium Account, Content, and Bitrate Range** is having correlation with the duration of buffering. \n",
    "\n",
    "However, **App and Stream Type** didn't have any correlation with the duration of buffering."
   ]
  },
  {
   "cell_type": "code",
   "execution_count": null,
   "metadata": {},
   "outputs": [],
   "source": []
  },
  {
   "cell_type": "markdown",
   "metadata": {},
   "source": [
    "## See the correlation between buffering duration with some numerical variables\n",
    "The correlation matrix between buffering duration as target variables and the predictors are:\n",
    "1. average_bitrate\n",
    "2. total_bytes\n",
    "3. play_duration"
   ]
  },
  {
   "cell_type": "code",
   "execution_count": 69,
   "metadata": {},
   "outputs": [
    {
     "data": {
      "text/html": [
       "<div>\n",
       "<style scoped>\n",
       "    .dataframe tbody tr th:only-of-type {\n",
       "        vertical-align: middle;\n",
       "    }\n",
       "\n",
       "    .dataframe tbody tr th {\n",
       "        vertical-align: top;\n",
       "    }\n",
       "\n",
       "    .dataframe thead th {\n",
       "        text-align: right;\n",
       "    }\n",
       "</style>\n",
       "<table border=\"1\" class=\"dataframe\">\n",
       "  <thead>\n",
       "    <tr style=\"text-align: right;\">\n",
       "      <th></th>\n",
       "      <th>average_bitrate</th>\n",
       "      <th>total_bytes</th>\n",
       "      <th>buffer_duration</th>\n",
       "      <th>play_duration</th>\n",
       "    </tr>\n",
       "  </thead>\n",
       "  <tbody>\n",
       "    <tr>\n",
       "      <th>count</th>\n",
       "      <td>93,409.00</td>\n",
       "      <td>93,409.00</td>\n",
       "      <td>93,409.00</td>\n",
       "      <td>93,409.00</td>\n",
       "    </tr>\n",
       "    <tr>\n",
       "      <th>mean</th>\n",
       "      <td>204,548.89</td>\n",
       "      <td>82,038,889.14</td>\n",
       "      <td>259,434.47</td>\n",
       "      <td>396.97</td>\n",
       "    </tr>\n",
       "    <tr>\n",
       "      <th>std</th>\n",
       "      <td>139,501.89</td>\n",
       "      <td>491,093,252.26</td>\n",
       "      <td>79,181,003.58</td>\n",
       "      <td>1,560.81</td>\n",
       "    </tr>\n",
       "    <tr>\n",
       "      <th>min</th>\n",
       "      <td>144.00</td>\n",
       "      <td>0.00</td>\n",
       "      <td>0.00</td>\n",
       "      <td>0.00</td>\n",
       "    </tr>\n",
       "    <tr>\n",
       "      <th>25%</th>\n",
       "      <td>700.00</td>\n",
       "      <td>750.00</td>\n",
       "      <td>0.01</td>\n",
       "      <td>5.00</td>\n",
       "    </tr>\n",
       "    <tr>\n",
       "      <th>50%</th>\n",
       "      <td>300,000.00</td>\n",
       "      <td>585,000.00</td>\n",
       "      <td>1.00</td>\n",
       "      <td>41.00</td>\n",
       "    </tr>\n",
       "    <tr>\n",
       "      <th>75%</th>\n",
       "      <td>300,000.00</td>\n",
       "      <td>11,250,000.00</td>\n",
       "      <td>6.00</td>\n",
       "      <td>115.00</td>\n",
       "    </tr>\n",
       "    <tr>\n",
       "      <th>max</th>\n",
       "      <td>300,000.00</td>\n",
       "      <td>30,920,625,000.00</td>\n",
       "      <td>24,200,000,000.00</td>\n",
       "      <td>82,455.00</td>\n",
       "    </tr>\n",
       "  </tbody>\n",
       "</table>\n",
       "</div>"
      ],
      "text/plain": [
       "           average_bitrate          total_bytes      buffer_duration  \\\n",
       "count            93,409.00            93,409.00            93,409.00   \n",
       "mean            204,548.89        82,038,889.14           259,434.47   \n",
       "std             139,501.89       491,093,252.26        79,181,003.58   \n",
       "min                 144.00                 0.00                 0.00   \n",
       "25%                 700.00               750.00                 0.01   \n",
       "50%             300,000.00           585,000.00                 1.00   \n",
       "75%             300,000.00        11,250,000.00                 6.00   \n",
       "max             300,000.00    30,920,625,000.00    24,200,000,000.00   \n",
       "\n",
       "             play_duration  \n",
       "count            93,409.00  \n",
       "mean                396.97  \n",
       "std               1,560.81  \n",
       "min                   0.00  \n",
       "25%                   5.00  \n",
       "50%                  41.00  \n",
       "75%                 115.00  \n",
       "max              82,455.00  "
      ]
     },
     "execution_count": 69,
     "metadata": {},
     "output_type": "execute_result"
    }
   ],
   "source": [
    "df.describe()"
   ]
  },
  {
   "cell_type": "code",
   "execution_count": 70,
   "metadata": {},
   "outputs": [],
   "source": [
    "df_corr = df[['buffer_duration','average_bitrate','total_bytes','play_duration']].copy()"
   ]
  },
  {
   "cell_type": "code",
   "execution_count": 71,
   "metadata": {},
   "outputs": [
    {
     "data": {
      "image/png": "[encoded data removed]",
      "text/plain": [
       "<Figure size 432x288 with 1 Axes>"
      ]
     },
     "metadata": {
      "needs_background": "light"
     },
     "output_type": "display_data"
    },
    {
     "data": {
      "image/png": "[encoded data removed]",
      "text/plain": [
       "<Figure size 432x288 with 1 Axes>"
      ]
     },
     "metadata": {
      "needs_background": "light"
     },
     "output_type": "display_data"
    },
    {
     "data": {
      "image/png": "[encoded data removed]",
      "text/plain": [
       "<Figure size 432x288 with 1 Axes>"
      ]
     },
     "metadata": {
      "needs_background": "light"
     },
     "output_type": "display_data"
    },
    {
     "data": {
      "image/png": "[encoded data removed]",
      "text/plain": [
       "<Figure size 432x288 with 1 Axes>"
      ]
     },
     "metadata": {
      "needs_background": "light"
     },
     "output_type": "display_data"
    },
    {
     "name": "stdout",
     "output_type": "stream",
     "text": [
      "buffer_duration has 14969 outliers\n",
      "average_bitrate has 0 outliers\n",
      "total_bytes has 16087 outliers\n",
      "play_duration has 15768 outliers\n"
     ]
    }
   ],
   "source": [
    "# boxplot of the df_cor\n",
    "box_and_whisker(df_corr, 'buffer_duration')\n",
    "box_and_whisker(df_corr, 'average_bitrate')\n",
    "box_and_whisker(df_corr, 'total_bytes')\n",
    "box_and_whisker(df_corr, 'play_duration')\n",
    "\n",
    "\n",
    "_, _, _, _, minimum_Col1_before, maximum_Col1_before = get_iqr_values(df, 'buffer_duration')\n",
    "\n",
    "# %% Count the outliers in the original data frame\n",
    "print(f\"buffer_duration has {count_outliers(df_corr, 'buffer_duration')} outliers\")\n",
    "print(f\"average_bitrate has {count_outliers(df_corr, 'average_bitrate')} outliers\")\n",
    "print(f\"total_bytes has {count_outliers(df_corr, 'total_bytes')} outliers\")\n",
    "print(f\"play_duration has {count_outliers(df_corr, 'play_duration')} outliers\")"
   ]
  },
  {
   "cell_type": "code",
   "execution_count": 72,
   "metadata": {},
   "outputs": [
    {
     "data": {
      "text/html": [
       "<div>\n",
       "<style scoped>\n",
       "    .dataframe tbody tr th:only-of-type {\n",
       "        vertical-align: middle;\n",
       "    }\n",
       "\n",
       "    .dataframe tbody tr th {\n",
       "        vertical-align: top;\n",
       "    }\n",
       "\n",
       "    .dataframe thead th {\n",
       "        text-align: right;\n",
       "    }\n",
       "</style>\n",
       "<table border=\"1\" class=\"dataframe\">\n",
       "  <thead>\n",
       "    <tr style=\"text-align: right;\">\n",
       "      <th></th>\n",
       "      <th>buffer_duration</th>\n",
       "      <th>average_bitrate</th>\n",
       "      <th>total_bytes</th>\n",
       "      <th>play_duration</th>\n",
       "    </tr>\n",
       "  </thead>\n",
       "  <tbody>\n",
       "    <tr>\n",
       "      <th>0</th>\n",
       "      <td>0.00</td>\n",
       "      <td>300,000.00</td>\n",
       "      <td>0</td>\n",
       "      <td>0</td>\n",
       "    </tr>\n",
       "    <tr>\n",
       "      <th>1</th>\n",
       "      <td>0.00</td>\n",
       "      <td>600.00</td>\n",
       "      <td>750</td>\n",
       "      <td>0</td>\n",
       "    </tr>\n",
       "    <tr>\n",
       "      <th>2</th>\n",
       "      <td>27.10</td>\n",
       "      <td>700.00</td>\n",
       "      <td>875</td>\n",
       "      <td>4</td>\n",
       "    </tr>\n",
       "    <tr>\n",
       "      <th>3</th>\n",
       "      <td>0.09</td>\n",
       "      <td>300,000.00</td>\n",
       "      <td>0</td>\n",
       "      <td>0</td>\n",
       "    </tr>\n",
       "    <tr>\n",
       "      <th>4</th>\n",
       "      <td>5.00</td>\n",
       "      <td>300,000.00</td>\n",
       "      <td>0</td>\n",
       "      <td>0</td>\n",
       "    </tr>\n",
       "    <tr>\n",
       "      <th>...</th>\n",
       "      <td>...</td>\n",
       "      <td>...</td>\n",
       "      <td>...</td>\n",
       "      <td>...</td>\n",
       "    </tr>\n",
       "    <tr>\n",
       "      <th>93404</th>\n",
       "      <td>5.00</td>\n",
       "      <td>300,000.00</td>\n",
       "      <td>157500000</td>\n",
       "      <td>420</td>\n",
       "    </tr>\n",
       "    <tr>\n",
       "      <th>93405</th>\n",
       "      <td>0.00</td>\n",
       "      <td>375.00</td>\n",
       "      <td>126563</td>\n",
       "      <td>270</td>\n",
       "    </tr>\n",
       "    <tr>\n",
       "      <th>93406</th>\n",
       "      <td>1.00</td>\n",
       "      <td>300,000.00</td>\n",
       "      <td>11250000</td>\n",
       "      <td>30</td>\n",
       "    </tr>\n",
       "    <tr>\n",
       "      <th>93407</th>\n",
       "      <td>1.37</td>\n",
       "      <td>300,000.00</td>\n",
       "      <td>2812500</td>\n",
       "      <td>75</td>\n",
       "    </tr>\n",
       "    <tr>\n",
       "      <th>93408</th>\n",
       "      <td>5.51</td>\n",
       "      <td>300,000.00</td>\n",
       "      <td>30187500</td>\n",
       "      <td>805</td>\n",
       "    </tr>\n",
       "  </tbody>\n",
       "</table>\n",
       "<p>93409 rows × 4 columns</p>\n",
       "</div>"
      ],
      "text/plain": [
       "           buffer_duration      average_bitrate  total_bytes  play_duration\n",
       "0                     0.00           300,000.00            0              0\n",
       "1                     0.00               600.00          750              0\n",
       "2                    27.10               700.00          875              4\n",
       "3                     0.09           300,000.00            0              0\n",
       "4                     5.00           300,000.00            0              0\n",
       "...                    ...                  ...          ...            ...\n",
       "93404                 5.00           300,000.00    157500000            420\n",
       "93405                 0.00               375.00       126563            270\n",
       "93406                 1.00           300,000.00     11250000             30\n",
       "93407                 1.37           300,000.00      2812500             75\n",
       "93408                 5.51           300,000.00     30187500            805\n",
       "\n",
       "[93409 rows x 4 columns]"
      ]
     },
     "execution_count": 72,
     "metadata": {},
     "output_type": "execute_result"
    }
   ],
   "source": [
    "df_corr"
   ]
  },
  {
   "cell_type": "code",
   "execution_count": 73,
   "metadata": {},
   "outputs": [
    {
     "name": "stdout",
     "output_type": "stream",
     "text": [
      "rows before removing: 93409\n",
      "rows after removing: 58056\n"
     ]
    },
    {
     "data": {
      "image/png": "[encoded data removed]",
      "text/plain": [
       "<Figure size 432x288 with 1 Axes>"
      ]
     },
     "metadata": {
      "needs_background": "light"
     },
     "output_type": "display_data"
    },
    {
     "data": {
      "image/png": "[encoded data removed]",
      "text/plain": [
       "<Figure size 432x288 with 1 Axes>"
      ]
     },
     "metadata": {
      "needs_background": "light"
     },
     "output_type": "display_data"
    },
    {
     "data": {
      "image/png": "[encoded data removed]",
      "text/plain": [
       "<Figure size 432x288 with 1 Axes>"
      ]
     },
     "metadata": {
      "needs_background": "light"
     },
     "output_type": "display_data"
    }
   ],
   "source": [
    "# remove the outliers\n",
    "print(f\"rows before removing: {df_corr.shape[0]}\")\n",
    "df_corr = remove_outliers(df_corr, 'buffer_duration')\n",
    "df_corr = remove_outliers(df_corr, 'total_bytes')\n",
    "df_corr = remove_outliers(df_corr, 'play_duration')\n",
    "print(f\"rows after removing: {df_corr.shape[0]}\")\n",
    "\n",
    "# Let's have a look at the end-result. Here is something very strange though, our data still appears to have outliers!\n",
    "box_and_whisker(df_corr, 'buffer_duration')\n",
    "box_and_whisker(df_corr, 'total_bytes')\n",
    "box_and_whisker(df_corr, 'play_duration')\n",
    "\n",
    "_, _, _, _, minimum_Col1_after, maximum_Col1_after = get_iqr_values(df_corr, 'buffer_duration')\n",
    "_, _, _, _, minimum_Col1_after, maximum_Col1_after = get_iqr_values(df_corr, 'total_bytes')\n",
    "_, _, _, _, minimum_Col1_after, maximum_Col1_after = get_iqr_values(df_corr, 'play_duration')"
   ]
  },
  {
   "cell_type": "code",
   "execution_count": 74,
   "metadata": {},
   "outputs": [
    {
     "data": {
      "text/plain": [
       "<matplotlib.axes._subplots.AxesSubplot at 0x1e33ff77e48>"
      ]
     },
     "execution_count": 74,
     "metadata": {},
     "output_type": "execute_result"
    },
    {
     "data": {
      "image/png": "[encoded data removed]",
      "text/plain": [
       "<Figure size 432x288 with 2 Axes>"
      ]
     },
     "metadata": {
      "needs_background": "light"
     },
     "output_type": "display_data"
    }
   ],
   "source": [
    "# calculate the correlation matrix\n",
    "corr = df_corr.corr()\n",
    "\n",
    "# plot the heatmap\n",
    "sns.heatmap(corr, \n",
    "        xticklabels=corr.columns,\n",
    "        yticklabels=corr.columns)"
   ]
  },
  {
   "cell_type": "code",
   "execution_count": 75,
   "metadata": {},
   "outputs": [
    {
     "data": {
      "text/html": [
       "<div>\n",
       "<style scoped>\n",
       "    .dataframe tbody tr th:only-of-type {\n",
       "        vertical-align: middle;\n",
       "    }\n",
       "\n",
       "    .dataframe tbody tr th {\n",
       "        vertical-align: top;\n",
       "    }\n",
       "\n",
       "    .dataframe thead th {\n",
       "        text-align: right;\n",
       "    }\n",
       "</style>\n",
       "<table border=\"1\" class=\"dataframe\">\n",
       "  <thead>\n",
       "    <tr style=\"text-align: right;\">\n",
       "      <th></th>\n",
       "      <th>buffer_duration</th>\n",
       "      <th>average_bitrate</th>\n",
       "      <th>total_bytes</th>\n",
       "      <th>play_duration</th>\n",
       "    </tr>\n",
       "  </thead>\n",
       "  <tbody>\n",
       "    <tr>\n",
       "      <th>buffer_duration</th>\n",
       "      <td>1.00</td>\n",
       "      <td>-0.13</td>\n",
       "      <td>0.02</td>\n",
       "      <td>0.02</td>\n",
       "    </tr>\n",
       "    <tr>\n",
       "      <th>average_bitrate</th>\n",
       "      <td>-0.13</td>\n",
       "      <td>1.00</td>\n",
       "      <td>0.45</td>\n",
       "      <td>-0.06</td>\n",
       "    </tr>\n",
       "    <tr>\n",
       "      <th>total_bytes</th>\n",
       "      <td>0.02</td>\n",
       "      <td>0.45</td>\n",
       "      <td>1.00</td>\n",
       "      <td>0.42</td>\n",
       "    </tr>\n",
       "    <tr>\n",
       "      <th>play_duration</th>\n",
       "      <td>0.02</td>\n",
       "      <td>-0.06</td>\n",
       "      <td>0.42</td>\n",
       "      <td>1.00</td>\n",
       "    </tr>\n",
       "  </tbody>\n",
       "</table>\n",
       "</div>"
      ],
      "text/plain": [
       "                     buffer_duration      average_bitrate  \\\n",
       "buffer_duration                 1.00                -0.13   \n",
       "average_bitrate                -0.13                 1.00   \n",
       "total_bytes                     0.02                 0.45   \n",
       "play_duration                   0.02                -0.06   \n",
       "\n",
       "                         total_bytes        play_duration  \n",
       "buffer_duration                 0.02                 0.02  \n",
       "average_bitrate                 0.45                -0.06  \n",
       "total_bytes                     1.00                 0.42  \n",
       "play_duration                   0.42                 1.00  "
      ]
     },
     "execution_count": 75,
     "metadata": {},
     "output_type": "execute_result"
    }
   ],
   "source": [
    "df_corr.corr()"
   ]
  },
  {
   "cell_type": "markdown",
   "metadata": {},
   "source": [
    "**Notes:**<br>\n",
    "From the correlation matrix above, we could see that **Average Bitrate, Total Bytes, and Play Duration didn't have any correlation towards the buffering duration.**"
   ]
  },
  {
   "cell_type": "markdown",
   "metadata": {},
   "source": [
    "<a id='e'></a>\n",
    "\n",
    "## 5. Conclusion"
   ]
  },
  {
   "cell_type": "markdown",
   "metadata": {},
   "source": [
    "### The insight from this datasets\n",
    "From the EDA conducted, some of important insights are:\n",
    "1. Most of the visitors didn't log in and not premium visitors.\n",
    "2. Most of them access Vidio via web-mobile using Facebook. This means that Vidio's contents are mostly spread in the Facebook and attract its user to access it directly from Facebook. \n",
    "3. 75% of the visitors in this dataset ever suffer buffering problem.\n",
    "\n",
    "Buffering problem might caused by several factors. In the analysis in [here](#d), I consider Average Bitrate, Total Bytes,  Play Duration, OS, Browser Name, App Name, Premium, Content Type, Stream Type, and Bitrate Range to see how it correlate with the Buffer Duration. By using ANOVA test for the categorical variables and Correlation Matrix for the numerical variables, the result shows that  **OS, Browser, Premium Account, Content, and Bitrate Range** correlated with Buffer Duration"
   ]
  },
  {
   "cell_type": "markdown",
   "metadata": {},
   "source": [
    "### What is the platform that user keenly used to watch? And how do you convince us that user are keenly watch on that platform?\n",
    "<a id='g'></a>\n",
    "Based on the analysis in [here](#f):\n",
    "\n",
    "1. The users mostly use their browser for in their phone **(web-mobile)** to access the content in Vidio.\n",
    "2. If we see the play duration, the plaform that has the longest play-duration is app-android. \n",
    "3. From those 54717 visitors that use web mobile as the platform, most of them are watching Video on Demand.\n",
    "4. The visitors that use web mobile as the platform, they mostly access with Facebook and Chrome browser.\n",
    "5. All of the web-mobile visitors are having TV Streaming."
   ]
  },
  {
   "cell_type": "markdown",
   "metadata": {},
   "source": [
    "### Top 10 visitors by using play_duration per day\n",
    "<a id='y'></a>\n",
    "\n",
    "Based on the analysis in [here](#z) these are the top 10 visitors based on the total play duration per day \n"
   ]
  },
  {
   "cell_type": "code",
   "execution_count": 76,
   "metadata": {},
   "outputs": [
    {
     "data": {
      "text/html": [
       "<div>\n",
       "<style scoped>\n",
       "    .dataframe tbody tr th:only-of-type {\n",
       "        vertical-align: middle;\n",
       "    }\n",
       "\n",
       "    .dataframe tbody tr th {\n",
       "        vertical-align: top;\n",
       "    }\n",
       "\n",
       "    .dataframe thead th {\n",
       "        text-align: right;\n",
       "    }\n",
       "</style>\n",
       "<table border=\"1\" class=\"dataframe\">\n",
       "  <thead>\n",
       "    <tr style=\"text-align: right;\">\n",
       "      <th></th>\n",
       "      <th>play_day</th>\n",
       "      <th>hash_watcher_id</th>\n",
       "      <th>play_duration</th>\n",
       "    </tr>\n",
       "  </thead>\n",
       "  <tbody>\n",
       "    <tr>\n",
       "      <th>0</th>\n",
       "      <td>2020-02-06</td>\n",
       "      <td>e3b0c44298fc1c149afbf4c8996fb92427ae41e4649b93...</td>\n",
       "      <td>129705</td>\n",
       "    </tr>\n",
       "    <tr>\n",
       "      <th>1</th>\n",
       "      <td>2020-02-03</td>\n",
       "      <td>e3b0c44298fc1c149afbf4c8996fb92427ae41e4649b93...</td>\n",
       "      <td>114402</td>\n",
       "    </tr>\n",
       "    <tr>\n",
       "      <th>2</th>\n",
       "      <td>2020-02-14</td>\n",
       "      <td>1037f78e497361fcf21323b537e1f05264f26ee233697c...</td>\n",
       "      <td>82455</td>\n",
       "    </tr>\n",
       "    <tr>\n",
       "      <th>3</th>\n",
       "      <td>2020-02-09</td>\n",
       "      <td>8396a2cdf048462cb24f81225433524783116200a71bc5...</td>\n",
       "      <td>77280</td>\n",
       "    </tr>\n",
       "    <tr>\n",
       "      <th>4</th>\n",
       "      <td>2020-02-09</td>\n",
       "      <td>e3b0c44298fc1c149afbf4c8996fb92427ae41e4649b93...</td>\n",
       "      <td>71704</td>\n",
       "    </tr>\n",
       "    <tr>\n",
       "      <th>5</th>\n",
       "      <td>2020-02-02</td>\n",
       "      <td>e3b0c44298fc1c149afbf4c8996fb92427ae41e4649b93...</td>\n",
       "      <td>69735</td>\n",
       "    </tr>\n",
       "    <tr>\n",
       "      <th>6</th>\n",
       "      <td>2020-02-13</td>\n",
       "      <td>e3b0c44298fc1c149afbf4c8996fb92427ae41e4649b93...</td>\n",
       "      <td>67505</td>\n",
       "    </tr>\n",
       "    <tr>\n",
       "      <th>7</th>\n",
       "      <td>2020-02-10</td>\n",
       "      <td>e3b0c44298fc1c149afbf4c8996fb92427ae41e4649b93...</td>\n",
       "      <td>63995</td>\n",
       "    </tr>\n",
       "    <tr>\n",
       "      <th>8</th>\n",
       "      <td>2020-02-16</td>\n",
       "      <td>e3b0c44298fc1c149afbf4c8996fb92427ae41e4649b93...</td>\n",
       "      <td>55980</td>\n",
       "    </tr>\n",
       "    <tr>\n",
       "      <th>9</th>\n",
       "      <td>2020-02-04</td>\n",
       "      <td>e3b0c44298fc1c149afbf4c8996fb92427ae41e4649b93...</td>\n",
       "      <td>55725</td>\n",
       "    </tr>\n",
       "  </tbody>\n",
       "</table>\n",
       "</div>"
      ],
      "text/plain": [
       "     play_day                                    hash_watcher_id  \\\n",
       "0  2020-02-06  e3b0c44298fc1c149afbf4c8996fb92427ae41e4649b93...   \n",
       "1  2020-02-03  e3b0c44298fc1c149afbf4c8996fb92427ae41e4649b93...   \n",
       "2  2020-02-14  1037f78e497361fcf21323b537e1f05264f26ee233697c...   \n",
       "3  2020-02-09  8396a2cdf048462cb24f81225433524783116200a71bc5...   \n",
       "4  2020-02-09  e3b0c44298fc1c149afbf4c8996fb92427ae41e4649b93...   \n",
       "5  2020-02-02  e3b0c44298fc1c149afbf4c8996fb92427ae41e4649b93...   \n",
       "6  2020-02-13  e3b0c44298fc1c149afbf4c8996fb92427ae41e4649b93...   \n",
       "7  2020-02-10  e3b0c44298fc1c149afbf4c8996fb92427ae41e4649b93...   \n",
       "8  2020-02-16  e3b0c44298fc1c149afbf4c8996fb92427ae41e4649b93...   \n",
       "9  2020-02-04  e3b0c44298fc1c149afbf4c8996fb92427ae41e4649b93...   \n",
       "\n",
       "   play_duration  \n",
       "0         129705  \n",
       "1         114402  \n",
       "2          82455  \n",
       "3          77280  \n",
       "4          71704  \n",
       "5          69735  \n",
       "6          67505  \n",
       "7          63995  \n",
       "8          55980  \n",
       "9          55725  "
      ]
     },
     "execution_count": 76,
     "metadata": {},
     "output_type": "execute_result"
    }
   ],
   "source": [
    "play_duration_day.head(10)"
   ]
  },
  {
   "cell_type": "code",
   "execution_count": null,
   "metadata": {},
   "outputs": [],
   "source": []
  }
 ],
 "metadata": {
  "kernelspec": {
   "display_name": "Python 3",
   "language": "python",
   "name": "python3"
  },
  "language_info": {
   "codemirror_mode": {
    "name": "ipython",
    "version": 3
   },
   "file_extension": ".py",
   "mimetype": "text/x-python",
   "name": "python",
   "nbconvert_exporter": "python",
   "pygments_lexer": "ipython3",
   "version": "3.7.6"
  }
 },
 "nbformat": 4,
 "nbformat_minor": 4
}
